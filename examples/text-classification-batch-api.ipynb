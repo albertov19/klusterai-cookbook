{
 "cells": [
  {
   "cell_type": "markdown",
   "id": "be189fde-4e5b-4f80-bae1-ded86a5075a7",
   "metadata": {
    "id": "be189fde-4e5b-4f80-bae1-ded86a5075a7"
   },
   "source": [
    "# Text Classification with kluster.ai Batch API"
   ]
  },
  {
   "cell_type": "markdown",
   "id": "b17a77d9",
   "metadata": {},
   "source": [
    "[![Open in Colab](https://colab.research.google.com/assets/colab-badge.svg)](https://colab.research.google.com/github/kluster-ai/klusterai-cookbook/blob/main/text-classification.ipynb)"
   ]
  },
  {
   "cell_type": "markdown",
   "id": "6d1d06ea-79c1-4f28-b312-0e5aabe18ff3",
   "metadata": {
    "id": "6d1d06ea-79c1-4f28-b312-0e5aabe18ff3"
   },
   "source": [
    "Welcome to the text classification notebook with kluster.ai Batch API!\n",
    "\n",
    "This notebook demonstrates how to use the <a href=\"https://kluster.ai/\" target=\"_blank\">kluster.ai</a> Batch API to classify movies into predefined categories based on their descriptions. Whether you’re working with a small dataset or scaling up to handle thousands of records, this notebook makes it simple to get started.\n",
    "\n",
    "By following this guide, you’ll be able to:\n",
    "1. **Input your API Key:** The only required input to connect to the kluster.ai platform. If you don’t have one, sign up <a href=\"https://platform.kluster.ai/signup\" target=\"_blank\">on our platform</a>, and you'll receive a free API key.\n",
    "2. **Run the Classification Process:** The notebook comes preloaded with a sample dataset containing movie descriptions. Simply run the provided cells to submit the batch job to the API and receive categorized results.\n",
    "\n",
    "This notebook is designed for users of all experience levels, so whether you’re familiar with APIs or completely new to large language models, you’ll find it easy to use. By the end, you’ll have a categorized dataset and insights ready for your project, all without needing to write any additional code.\n",
    "\n",
    "Let’s get started!\n"
   ]
  },
  {
   "cell_type": "markdown",
   "id": "xU1WBQJ7Uh09",
   "metadata": {
    "id": "xU1WBQJ7Uh09"
   },
   "source": [
    "## Config"
   ]
  },
  {
   "cell_type": "markdown",
   "id": "b8d580f8-67d5-45d6-915f-0f6b60d3b543",
   "metadata": {},
   "source": [
    "Enter your personal kluster.ai API key (make sure it has no blank spaces). Remember to <a href=\"https://platform.kluster.ai/signup\" target=\"_blank\">sign up</a> if you don't have one yet."
   ]
  },
  {
   "cell_type": "code",
   "execution_count": 2,
   "id": "4911e5eb-7463-4a6b-8a99-9313cecd9d4d",
   "metadata": {},
   "outputs": [
    {
     "name": "stdin",
     "output_type": "stream",
     "text": [
      "Enter your kluster.ai API key:  ········\n"
     ]
    }
   ],
   "source": [
    "from getpass import getpass\n",
    "# Enter you personal kluster.ai API key (make sure in advance it has no blank spaces)\n",
    "api_key = getpass(\"Enter your kluster.ai API key: \")"
   ]
  },
  {
   "cell_type": "markdown",
   "id": "650e5559-69c7-4274-8700-a7d94791e9db",
   "metadata": {
    "id": "650e5559-69c7-4274-8700-a7d94791e9db"
   },
   "source": [
    "## Setup"
   ]
  },
  {
   "cell_type": "code",
   "execution_count": 3,
   "id": "bcc3d475-8f49-4fc4-9a5e-c6eb6866d2b5",
   "metadata": {},
   "outputs": [
    {
     "name": "stdout",
     "output_type": "stream",
     "text": [
      "Requirement already satisfied: OpenAI in /opt/anaconda3/lib/python3.12/site-packages (1.55.3)\n",
      "Requirement already satisfied: anyio<5,>=3.5.0 in /opt/anaconda3/lib/python3.12/site-packages (from OpenAI) (4.2.0)\n",
      "Requirement already satisfied: distro<2,>=1.7.0 in /opt/anaconda3/lib/python3.12/site-packages (from OpenAI) (1.9.0)\n",
      "Requirement already satisfied: httpx<1,>=0.23.0 in /opt/anaconda3/lib/python3.12/site-packages (from OpenAI) (0.27.0)\n",
      "Requirement already satisfied: jiter<1,>=0.4.0 in /opt/anaconda3/lib/python3.12/site-packages (from OpenAI) (0.8.0)\n",
      "Requirement already satisfied: pydantic<3,>=1.9.0 in /opt/anaconda3/lib/python3.12/site-packages (from OpenAI) (2.8.2)\n",
      "Requirement already satisfied: sniffio in /opt/anaconda3/lib/python3.12/site-packages (from OpenAI) (1.3.0)\n",
      "Requirement already satisfied: tqdm>4 in /opt/anaconda3/lib/python3.12/site-packages (from OpenAI) (4.66.1)\n",
      "Requirement already satisfied: typing-extensions<5,>=4.11 in /opt/anaconda3/lib/python3.12/site-packages (from OpenAI) (4.11.0)\n",
      "Requirement already satisfied: idna>=2.8 in /opt/anaconda3/lib/python3.12/site-packages (from anyio<5,>=3.5.0->OpenAI) (3.7)\n",
      "Requirement already satisfied: certifi in /opt/anaconda3/lib/python3.12/site-packages (from httpx<1,>=0.23.0->OpenAI) (2024.8.30)\n",
      "Requirement already satisfied: httpcore==1.* in /opt/anaconda3/lib/python3.12/site-packages (from httpx<1,>=0.23.0->OpenAI) (1.0.2)\n",
      "Requirement already satisfied: h11<0.15,>=0.13 in /opt/anaconda3/lib/python3.12/site-packages (from httpcore==1.*->httpx<1,>=0.23.0->OpenAI) (0.14.0)\n",
      "Requirement already satisfied: annotated-types>=0.4.0 in /opt/anaconda3/lib/python3.12/site-packages (from pydantic<3,>=1.9.0->OpenAI) (0.6.0)\n",
      "Requirement already satisfied: pydantic-core==2.20.1 in /opt/anaconda3/lib/python3.12/site-packages (from pydantic<3,>=1.9.0->OpenAI) (2.20.1)\n",
      "Note: you may need to restart the kernel to use updated packages.\n"
     ]
    }
   ],
   "source": [
    "%pip install OpenAI"
   ]
  },
  {
   "cell_type": "code",
   "execution_count": 4,
   "id": "b89a4feb-37a9-430d-a742-cd58495b4eaf",
   "metadata": {},
   "outputs": [],
   "source": [
    "import os\n",
    "import urllib.request\n",
    "import pandas as pd\n",
    "import requests\n",
    "from openai import OpenAI\n",
    "import time\n",
    "import json\n",
    "from IPython.display import clear_output, display\n",
    "\n",
    "pd.set_option('display.max_columns', 1000, 'display.width', 1000, 'display.max_rows',1000, 'display.max_colwidth', 500)"
   ]
  },
  {
   "cell_type": "code",
   "execution_count": 5,
   "id": "zG9y_WO5rYaj",
   "metadata": {},
   "outputs": [],
   "source": [
    "# Set up the client\n",
    "client = OpenAI(\n",
    "    base_url=\"https://api.kluster.ai/v1\",\n",
    "    api_key=api_key,\n",
    ")"
   ]
  },
  {
   "cell_type": "markdown",
   "id": "udPtLfTaisSw",
   "metadata": {
    "id": "udPtLfTaisSw"
   },
   "source": [
    "## Get the data"
   ]
  },
  {
   "cell_type": "markdown",
   "id": "QjCVfg65jKz6",
   "metadata": {
    "id": "QjCVfg65jKz6"
   },
   "source": [
    "This notebook includes a preloaded sample dataset derived from the Top 1000 IMDb Movies dataset. It contains movie descriptions ready for classification. No additional setup is needed—simply proceed to the next steps to begin working with this data."
   ]
  },
  {
   "cell_type": "code",
   "execution_count": 6,
   "id": "07018f92-9a01-47d5-916a-12cd03dfa3a0",
   "metadata": {},
   "outputs": [],
   "source": [
    "df = pd.DataFrame({\n",
    "    \"text\": [\n",
    "        \"Breakfast at Tiffany's: A young New York socialite becomes interested in a young man who has moved into her apartment building, but her past threatens to get in the way.\",\n",
    "        \"Giant: Sprawling epic covering the life of a Texas cattle rancher and his family and associates.\",\n",
    "        \"From Here to Eternity: In Hawaii in 1941, a private is cruelly punished for not boxing on his unit's team, while his captain's wife and second-in-command are falling in love.\",\n",
    "        \"Lifeboat: Several survivors of a torpedoed merchant ship in World War II find themselves in the same lifeboat with one of the crew members of the U-boat that sank their ship.\",\n",
    "        \"The 39 Steps: A man in London tries to help a counter-espionage Agent. But when the Agent is killed, and the man stands accused, he must go on the run to save himself and stop a spy ring which is trying to steal top secret information.\"\n",
    "    ]\n",
    "})"
   ]
  },
  {
   "cell_type": "markdown",
   "id": "w-Lux3oUjfYI",
   "metadata": {
    "id": "w-Lux3oUjfYI"
   },
   "source": [
    "## Define the task"
   ]
  },
  {
   "cell_type": "markdown",
   "id": "31f43079-3ed4-4f9c-9ef6-10575fad6d7d",
   "metadata": {},
   "source": [
    "Here, we define the prompt to guide the model in classifying the movies into specific genres based on their descriptions, with the output formatted as a JSON object."
   ]
  },
  {
   "cell_type": "code",
   "execution_count": 7,
   "id": "c8838ccb-c29b-477d-b15f-a95741aa528f",
   "metadata": {},
   "outputs": [],
   "source": [
    "SYSTEM_PROMPT = '''\n",
    "    Classify the main genre of the given movie description based on the following genres: \"Action\", \"Adventure\", \"Animation\", \"Biography\", \"Comedy\", \"Crime\", \"Documentary\", \"Drama\", \"Fantasy\", \"Historical\", \"Horror\", \"Musical\", \"Mystery\", \"Romance\", \"Sci-Fi\", \"Sports\", \"Thriller\", \"War\", \"Western\", \"Family\", \"Noir\", \"Superhero\", \"Martial Arts\", \"Psychological Thriller\", \"Black Comedy\", \"Post-Apocalyptic\", \"Cyberpunk\", \"Steampunk\", \"Disaster\", \"Film Noir\", \"Silent Film\", \"Slasher\", \"Zombie\", \"Paranormal\", \"Mockumentary\", \"Anthology\", \"Coming of Age\", \"Period Piece\", \"Road Movie\", \"Science Fantasy\", \"Surreal\", \"Spy\", \"Teen\", \"Epic\", \"Found Footage\", \"Heist\", \"Political\", \"Gangster\", \"Experimental\", \"Satire\", \"Tragedy\", \"Romantic Comedy\", \"Dark Fantasy\", \"Supernatural\", \"Time Travel\", \"Vampire\", \"Alien Invasion\", \"Musical Drama\", \"Historical Fiction\", \"Urban\", \"Chick Flick\", \"Buddy Film\", \"Disaster Comedy\", \"Adventure Comedy\", \"Space Opera\", \"Sword and Sorcery\". \n",
    "    Provide only a JSON object with the following structure:\n",
    "    {\n",
    "        \"category\": string, // The primary category of the provided movie description\n",
    "        \"confidence\": float, // A value between 0 and 1 indicating confidence in the classification\n",
    "    }\n",
    "    '''"
   ]
  },
  {
   "cell_type": "markdown",
   "id": "OyGuHllZllct",
   "metadata": {
    "id": "OyGuHllZllct"
   },
   "source": [
    "## Batch Predictions"
   ]
  },
  {
   "cell_type": "markdown",
   "id": "64c345aa-b6a7-4770-8368-b290e9e799dc",
   "metadata": {
    "id": "6-MZlfXAoiNv"
   },
   "source": [
    "To execute the batch predictions, we’ll follow two simple steps:\n",
    "1. **Create the Batch File:** we’ll generate a file containing a collection of tasks (the ones defined earlier) to be processed by the model.\n",
    "2.\t**Upload the Batch File:** once the batch file is ready, we’ll upload it to the kluster.ai platform using the API, where the tasks will be executed.\n",
    "\n",
    "Everything is set up for you – just run the cells below to watch it all come together!"
   ]
  },
  {
   "cell_type": "markdown",
   "id": "Ew-R24Ltp5EW",
   "metadata": {
    "id": "Ew-R24Ltp5EW"
   },
   "source": [
    "### Create the Batch File"
   ]
  },
  {
   "cell_type": "markdown",
   "id": "qS4JXT52wGJ-",
   "metadata": {
    "id": "qS4JXT52wGJ-"
   },
   "source": [
    "This example selects the `klusterai/Meta-Llama-3.1-70B-Instruct-Turbo` model. If you'd like to use a different model feel free to change the model's name in the following cell. Please refer to our <a href=\"https://docs.kluster.ai/getting-started/#list-supported-models\" target=\"_blank\">documentation</a> for a list of the models we support."
   ]
  },
  {
   "cell_type": "code",
   "execution_count": 8,
   "id": "fVtwyqZ_nEq7",
   "metadata": {},
   "outputs": [],
   "source": [
    "def create_tasks(df, task_type, system_prompt):\n",
    "    tasks = []\n",
    "    for index, row in df.iterrows():\n",
    "        content = row['text']\n",
    "        \n",
    "        task = {\n",
    "            \"custom_id\": f\"{task_type}-{index}\",\n",
    "            \"method\": \"POST\",\n",
    "            \"url\": \"/v1/chat/completions\",\n",
    "            \"body\": {\n",
    "                \"model\": \"klusterai/Meta-Llama-3.1-70B-Instruct-Turbo\",\n",
    "                \"temperature\": 0.5,\n",
    "                \"response_format\": {\"type\": \"json_object\"},\n",
    "                \"messages\": [\n",
    "                    {\"role\": \"system\", \"content\": system_prompt},\n",
    "                    {\"role\": \"user\", \"content\": content}\n",
    "                ],\n",
    "            }\n",
    "        }\n",
    "        tasks.append(task)\n",
    "    return tasks\n",
    "\n",
    "def save_tasks(tasks, task_type):\n",
    "    filename = f\"data/batch_tasks_{task_type}.jsonl\"\n",
    "    with open(filename, 'w') as file:\n",
    "        for task in tasks:\n",
    "            file.write(json.dumps(task) + '\\n')\n",
    "    return filename"
   ]
  },
  {
   "cell_type": "code",
   "execution_count": 9,
   "id": "qNhmrmHdnp7g",
   "metadata": {},
   "outputs": [],
   "source": [
    "tasks = []\n",
    "task_type = 'movie_classification'\n",
    "\n",
    "task_list = create_tasks(df, task_type=task_type, system_prompt=SYSTEM_PROMPT)\n",
    "filename = save_tasks(task_list, task_type=task_type)"
   ]
  },
  {
   "cell_type": "markdown",
   "id": "xArKu7-sqSiR",
   "metadata": {
    "id": "xArKu7-sqSiR"
   },
   "source": [
    "### Upload Batch File to kluster.ai"
   ]
  },
  {
   "cell_type": "code",
   "execution_count": 10,
   "id": "l5eu5UyAnEtk",
   "metadata": {},
   "outputs": [
    {
     "name": "stdout",
     "output_type": "stream",
     "text": [
      "Creating batch job for data/batch_tasks_movie_classification.jsonl\n"
     ]
    }
   ],
   "source": [
    "def create_batch_job(file_name):\n",
    "    print(f\"Creating batch job for {file_name}\")\n",
    "    batch_file = client.files.create(\n",
    "        file=open(file_name, \"rb\"),\n",
    "        purpose=\"batch\"\n",
    "    )\n",
    "\n",
    "    batch_job = client.batches.create(\n",
    "        input_file_id=batch_file.id,\n",
    "        endpoint=\"/v1/chat/completions\",\n",
    "        completion_window=\"24h\"\n",
    "    )\n",
    "\n",
    "    return batch_job\n",
    "\n",
    "job = create_batch_job(filename)"
   ]
  },
  {
   "cell_type": "markdown",
   "id": "e-ujphILqepu",
   "metadata": {
    "id": "e-ujphILqepu"
   },
   "source": [
    "### Check Job progress"
   ]
  },
  {
   "cell_type": "markdown",
   "id": "iFrDrriQqizC",
   "metadata": {
    "id": "iFrDrriQqizC"
   },
   "source": [
    "The batch jobs have been created, and all tasks are now being processed! In the following section, we’ll monitor the status of each job to see how they’re progressing. Let’s take a look and keep track of their completion.\n",
    "\n",
    "**REMEMBER:** The time to complete a batch inference job can take up to 24 hours. Although, it typically completes in much less time."
   ]
  },
  {
   "cell_type": "code",
   "execution_count": 11,
   "id": "SuH0CfoqjP3d",
   "metadata": {},
   "outputs": [
    {
     "data": {
      "text/plain": [
       "'Movie_classification job completed!'"
      ]
     },
     "metadata": {},
     "output_type": "display_data"
    }
   ],
   "source": [
    "def parse_json_objects(data_string):\n",
    "    if isinstance(data_string, bytes):\n",
    "        data_string = data_string.decode('utf-8')\n",
    "\n",
    "    json_strings = data_string.strip().split('\\n')\n",
    "    json_objects = []\n",
    "\n",
    "    for json_str in json_strings:\n",
    "        try:\n",
    "            json_obj = json.loads(json_str)\n",
    "            json_objects.append(json_obj)\n",
    "        except json.JSONDecodeError as e:\n",
    "            print(f\"Error parsing JSON: {e}\")\n",
    "\n",
    "    return json_objects\n",
    "\n",
    "all_completed = False\n",
    "while not all_completed:\n",
    "    all_completed = True\n",
    "    output_lines = []\n",
    "\n",
    "    updated_job = client.batches.retrieve(job.id)\n",
    "\n",
    "    if updated_job.status != \"completed\":\n",
    "        all_completed = False\n",
    "        completed = updated_job.request_counts.completed\n",
    "        total = updated_job.request_counts.total\n",
    "        output_lines.append(f\"{task_type.capitalize()} job status: {updated_job.status} - Progress: {completed}/{total}\")\n",
    "    else:\n",
    "        output_lines.append(f\"{task_type.capitalize()} job completed!\")\n",
    "\n",
    "    # Clear the output and display updated status\n",
    "    clear_output(wait=True)\n",
    "    for line in output_lines:\n",
    "        display(line)\n",
    "\n",
    "    if not all_completed:\n",
    "        time.sleep(10)"
   ]
  },
  {
   "cell_type": "markdown",
   "id": "TkkhIG9HU0D9",
   "metadata": {
    "id": "TkkhIG9HU0D9"
   },
   "source": [
    "## Get the results"
   ]
  },
  {
   "cell_type": "code",
   "execution_count": 12,
   "id": "caA5djbLrJ4O",
   "metadata": {},
   "outputs": [
    {
     "name": "stdout",
     "output_type": "stream",
     "text": [
      "\n",
      " -------------------------- \n",
      "\n",
      "Task ID: movie_classification-0. \n",
      "\n",
      "TEXT: Breakfast at Tiffany's: A young New York socialite becomes interested in a young man who has moved into her apartment building, but her past threatens to get in the way.\n",
      "\n",
      "RESULT: {\n",
      "    \"category\": \"Romance\",\n",
      "    \"confidence\": 0.8\n",
      "}\n",
      "\n",
      " -------------------------- \n",
      "\n",
      "Task ID: movie_classification-1. \n",
      "\n",
      "TEXT: Giant: Sprawling epic covering the life of a Texas cattle rancher and his family and associates.\n",
      "\n",
      "RESULT: {\n",
      "    \"category\": \"Epic\",\n",
      "    \"confidence\": 0.8\n",
      "}\n",
      "\n",
      " -------------------------- \n",
      "\n",
      "Task ID: movie_classification-2. \n",
      "\n",
      "TEXT: From Here to Eternity: In Hawaii in 1941, a private is cruelly punished for not boxing on his unit's team, while his captain's wife and second-in-command are falling in love.\n",
      "\n",
      "RESULT: {\n",
      "    \"category\": \"Romance\",\n",
      "    \"confidence\": 0.7\n",
      "}\n",
      "\n",
      " -------------------------- \n",
      "\n",
      "Task ID: movie_classification-3. \n",
      "\n",
      "TEXT: Lifeboat: Several survivors of a torpedoed merchant ship in World War II find themselves in the same lifeboat with one of the crew members of the U-boat that sank their ship.\n",
      "\n",
      "RESULT: {\n",
      "    \"category\": \"War\",\n",
      "    \"confidence\": 0.9\n",
      "}\n",
      "\n",
      " -------------------------- \n",
      "\n",
      "Task ID: movie_classification-4. \n",
      "\n",
      "TEXT: The 39 Steps: A man in London tries to help a counter-espionage Agent. But when the Agent is killed, and the man stands accused, he must go on the run to save himself and stop a spy ring which is trying to steal top secret information.\n",
      "\n",
      "RESULT: {\n",
      "    \"category\": \"Thriller\",\n",
      "    \"confidence\": 0.8\n",
      "}\n"
     ]
    }
   ],
   "source": [
    "batch_job = client.batches.retrieve(job.id)\n",
    "result_file_id = batch_job.output_file_id\n",
    "result = client.files.content(result_file_id).content\n",
    "results = parse_json_objects(result)\n",
    "\n",
    "for res in results:\n",
    "    task_id = res['custom_id']\n",
    "    index = task_id.split('-')[-1]\n",
    "    result = res['response']['body']['choices'][0]['message']['content']\n",
    "    text = df.iloc[int(index)]['text']\n",
    "    print(f'\\n -------------------------- \\n')\n",
    "    print(f\"Task ID: {task_id}. \\n\\nTEXT: {text}\\n\\nRESULT: {result}\")"
   ]
  },
  {
   "cell_type": "markdown",
   "id": "70e0e816-6558-4ff2-bab2-f85cff00bfc8",
   "metadata": {
    "executionInfo": {
     "elapsed": 5,
     "status": "ok",
     "timestamp": 1732042430093,
     "user": {
      "displayName": "Joaquin Rodríguez",
      "userId": "09993043682054067997"
     },
     "user_tz": 180
    },
    "id": "tu2R8dGYimKc"
   },
   "source": [
    "## Conclusion"
   ]
  },
  {
   "cell_type": "markdown",
   "id": "7d195dd1-1293-4407-b6ad-cab7e77b14c0",
   "metadata": {},
   "source": [
    "You’ve successfully completed the classification task using the kluster.ai Batch API! This process showcases how you can efficiently handle and classify large amounts of data with ease. The Batch API empowers you to scale your workflows seamlessly, making it an invaluable tool for processing extensive datasets."
   ]
  },
  {
   "cell_type": "code",
   "execution_count": null,
   "id": "c092343e-7672-46f4-aa27-00b3466ad210",
   "metadata": {},
   "outputs": [],
   "source": []
  }
 ],
 "metadata": {
  "language_info": {
   "name": "python"
  }
 },
 "nbformat": 4,
 "nbformat_minor": 5
}
