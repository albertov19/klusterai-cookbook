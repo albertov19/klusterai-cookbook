{
 "cells": [
  {
   "cell_type": "markdown",
   "id": "be189fde-4e5b-4f80-bae1-ded86a5075a7",
   "metadata": {
    "id": "be189fde-4e5b-4f80-bae1-ded86a5075a7"
   },
   "source": [
    "# How to choose the best model with kluster.ai - a comparative analysis"
   ]
  },
  {
   "cell_type": "markdown",
   "id": "b17a77d9",
   "metadata": {},
   "source": [
    "[![Open in Colab](https://colab.research.google.com/assets/colab-badge.svg)](https://colab.research.google.com/github/kluster-ai/klusterai-cookbook/blob/main/examples/model-comparison.ipynb)"
   ]
  },
  {
   "cell_type": "markdown",
   "id": "1297a26a-fdb2-48b4-bc1e-d66ec0b40acc",
   "metadata": {},
   "source": [
    "Welcome to the model comparison notebook powered by the <a href=\"https://kluster.ai/\" target=\"_blank\">kluster.ai</a> Batch API!\n",
    "\n",
    "kluster.ai offers a range of highly capable models at <a href=\"https://www.kluster.ai/#pricing\" target=\"_blank\">prices</a> that are significantly lower than most of the other providers, making advanced AI more accessible. This cost advantage, paired with high performance, ensures that users can find the right balance between price and capability. While all kluster.ai models excel in various tasks, you may still want to choose the one that best adapts to your specific needs. The goal is to select a model that achieves the expected results while minimizing costs, avoiding unnecessary expenses from higher-priced models when a smaller, more efficient option may suffice. This notebook demonstrates how to compare different models to help you make the most cost-effective and performance-driven choice.\n",
    "\n",
    "Using the IMDb 1000 Movie dataset, we will request each model to classify the genre of the movies based on their description. With the ground truth, or true labels, of each movie’s genres as originally provided by the dataset, we will calculate the accuracy of each model."
   ]
  },
  {
   "cell_type": "markdown",
   "id": "efbb26eb",
   "metadata": {},
   "source": [
    "Before diving into model comparisons, it’s important to understand the concept of accuracy and why it’s a key metric for evaluating performance. Accuracy measures how often a model’s classifications match the actual labels, or ground truth, in a dataset. It provides a straightforward indication of how well the model is performing on the given task."
   ]
  },
  {
   "cell_type": "markdown",
   "id": "bfd85d9e",
   "metadata": {},
   "source": [
    "$$ \\text{Accuracy} = \\frac{\\text{Number of Correct Classifications}}{\\text{Total Number of Classifications}} $$"
   ]
  },
  {
   "cell_type": "markdown",
   "id": "df89bb28",
   "metadata": {},
   "source": [
    "To get started, simply provide your API key and run the preloaded cells to perform the model comparisons. If you don’t have an API key, you can sign up for free <a href=\"https://platform.kluster.ai/signup\" target=\"_blank\">on our platform</a>."
   ]
  },
  {
   "cell_type": "markdown",
   "id": "xU1WBQJ7Uh09",
   "metadata": {
    "id": "xU1WBQJ7Uh09"
   },
   "source": [
    "## Config"
   ]
  },
  {
   "cell_type": "markdown",
   "id": "4ace7b9c-eb77-4f6a-a3c2-eb75581ed427",
   "metadata": {},
   "source": [
    "Enter your personal kluster.ai API key. Remember to <a href=\"https://platform.kluster.ai/signup\" target=\"_blank\">sign up</a> if you don't have one yet."
   ]
  },
  {
   "cell_type": "code",
   "execution_count": 1,
   "id": "4911e5eb-7463-4a6b-8a99-9313cecd9d4d",
   "metadata": {},
   "outputs": [
    {
     "name": "stdout",
     "output_type": "stream",
     "text": [
      "Enter your kluster.ai API key:  ········\n"
     ]
    }
   ],
   "source": [
    "from getpass import getpass\n",
    "# Enter you personal kluster.ai API key (make sure in advance it has no blank spaces)\n",
    "api_key = getpass(\"Enter your kluster.ai API key: \")"
   ]
  },
  {
   "cell_type": "markdown",
   "id": "650e5559-69c7-4274-8700-a7d94791e9db",
   "metadata": {
    "id": "650e5559-69c7-4274-8700-a7d94791e9db"
   },
   "source": [
    "## Setup"
   ]
  },
  {
   "cell_type": "code",
   "execution_count": 2,
   "id": "bcc3d475-8f49-4fc4-9a5e-c6eb6866d2b5",
   "metadata": {},
   "outputs": [
    {
     "name": "stdout",
     "output_type": "stream",
     "text": [
      "Note: you may need to restart the kernel to use updated packages.\n"
     ]
    }
   ],
   "source": [
    "%pip install -q OpenAI"
   ]
  },
  {
   "cell_type": "code",
   "execution_count": 3,
   "id": "b89a4feb-37a9-430d-a742-cd58495b4eaf",
   "metadata": {},
   "outputs": [],
   "source": [
    "import urllib.request\n",
    "import pandas as pd\n",
    "import numpy as np\n",
    "from openai import OpenAI\n",
    "import time\n",
    "import json\n",
    "from IPython.display import clear_output, display\n",
    "import matplotlib.pyplot as plt\n",
    "\n",
    "pd.set_option('display.max_columns', 1000, 'display.width', 1000, 'display.max_rows',1000, 'display.max_colwidth', 500)"
   ]
  },
  {
   "cell_type": "code",
   "execution_count": 4,
   "id": "zG9y_WO5rYaj",
   "metadata": {},
   "outputs": [],
   "source": [
    "# Set up the client\n",
    "client = OpenAI(\n",
    "    base_url=\"https://api.kluster.ai/v1\",\n",
    "    api_key=api_key,\n",
    ")"
   ]
  },
  {
   "cell_type": "markdown",
   "id": "ae9de5f9-cfed-4c4d-86ea-503b21dad03d",
   "metadata": {},
   "source": [
    "## Useful functions"
   ]
  },
  {
   "cell_type": "markdown",
   "id": "7d02cfc4-f1dc-4dc9-aabc-1936116f1214",
   "metadata": {},
   "source": [
    "In this section, we define a set of utility functions to streamline predictions with each model.\n",
    "\n",
    "If you’re unfamiliar with the basics of using the kluster.ai Batch API, please refer to our <a href=\"https://docs.kluster.ai/tutorials/klusterai-api/getting-started/\" target=\"_blank\">introductory notebook</a> for a comprehensive guide."
   ]
  },
  {
   "cell_type": "markdown",
   "id": "ff66e40d-1b4a-4f64-aa93-022b627be483",
   "metadata": {
    "id": "Ew-R24Ltp5EW"
   },
   "source": [
    "#### Create the Batch File"
   ]
  },
  {
   "cell_type": "markdown",
   "id": "b386da2f-8f5a-430f-97e0-118928c3faac",
   "metadata": {},
   "source": [
    "Here we’ll create a file containing the requests to be processed by the model."
   ]
  },
  {
   "cell_type": "code",
   "execution_count": 5,
   "id": "fVtwyqZ_nEq7",
   "metadata": {},
   "outputs": [],
   "source": [
    "def create_tasks(df, task_type, system_prompt, model):\n",
    "    tasks = []\n",
    "    for index, row in df.iterrows():\n",
    "        content = row['Overview']\n",
    "        \n",
    "        task = {\n",
    "            \"custom_id\": f\"{task_type}-{index}\",\n",
    "            \"method\": \"POST\",\n",
    "            \"url\": \"/v1/chat/completions\",\n",
    "            \"body\": {\n",
    "                \"model\": model,\n",
    "                \"temperature\": 0,\n",
    "                \"response_format\": {\"type\": \"json_object\"},\n",
    "                \"messages\": [\n",
    "                    {\"role\": \"system\", \"content\": system_prompt},\n",
    "                    {\"role\": \"user\", \"content\": content},\n",
    "                ],\n",
    "            }\n",
    "        }\n",
    "        tasks.append(task)\n",
    "    return tasks\n",
    "\n",
    "def save_tasks(tasks, task_type):\n",
    "    filename = f\"batch_tasks_{task_type}.jsonl\"\n",
    "    with open(filename, 'w') as file:\n",
    "        for task in tasks:\n",
    "            file.write(json.dumps(task) + '\\n')\n",
    "    return filename"
   ]
  },
  {
   "cell_type": "markdown",
   "id": "xArKu7-sqSiR",
   "metadata": {
    "id": "xArKu7-sqSiR"
   },
   "source": [
    "#### Upload Batch File to kluster.ai"
   ]
  },
  {
   "cell_type": "markdown",
   "id": "eb88ca74-e555-4823-b020-954a7bab0c87",
   "metadata": {},
   "source": [
    "Once the file is ready, we’ll upload it to the <a href=\"https://platform.kluster.ai\" target=\"_blank\">kluster.ai platform</a> using the API, where it will be queued for processing."
   ]
  },
  {
   "cell_type": "code",
   "execution_count": 6,
   "id": "l5eu5UyAnEtk",
   "metadata": {},
   "outputs": [],
   "source": [
    "def create_batch_job(file_name):\n",
    "    print(f\"Creating batch job for {file_name}\")\n",
    "    batch_file = client.files.create(\n",
    "        file=open(file_name, \"rb\"),\n",
    "        purpose=\"batch\"\n",
    "    )\n",
    "\n",
    "    batch_job = client.batches.create(\n",
    "        input_file_id=batch_file.id,\n",
    "        endpoint=\"/v1/chat/completions\",\n",
    "        completion_window=\"24h\"\n",
    "    )\n",
    "\n",
    "    return batch_job"
   ]
  },
  {
   "cell_type": "markdown",
   "id": "e-ujphILqepu",
   "metadata": {
    "id": "e-ujphILqepu"
   },
   "source": [
    "#### Check Job progress"
   ]
  },
  {
   "cell_type": "markdown",
   "id": "4ba4b78d-216b-41b2-90e3-76402f0cfdc9",
   "metadata": {},
   "source": [
    "With this function, we can monitor the status of each job to track its progress."
   ]
  },
  {
   "cell_type": "code",
   "execution_count": 7,
   "id": "SuH0CfoqjP3d",
   "metadata": {},
   "outputs": [],
   "source": [
    "def parse_json_objects(data_string):\n",
    "    if isinstance(data_string, bytes):\n",
    "        data_string = data_string.decode('utf-8')\n",
    "\n",
    "    json_strings = data_string.strip().split('\\n')\n",
    "    json_objects = []\n",
    "\n",
    "    for json_str in json_strings:\n",
    "        try:\n",
    "            json_obj = json.loads(json_str)\n",
    "            json_objects.append(json_obj)\n",
    "        except json.JSONDecodeError as e:\n",
    "            print(f\"Error parsing JSON: {e}\")\n",
    "\n",
    "    return json_objects\n",
    "\n",
    "def monitor_job_status(client, job_id, task_type):\n",
    "    all_completed = False\n",
    "\n",
    "    while not all_completed:\n",
    "        all_completed = True\n",
    "        output_lines = []\n",
    "\n",
    "        updated_job = client.batches.retrieve(job_id)\n",
    "\n",
    "        if updated_job.status.lower() != \"completed\":\n",
    "            all_completed = False\n",
    "            completed = updated_job.request_counts.completed\n",
    "            total = updated_job.request_counts.total\n",
    "            output_lines.append(f\"{task_type.capitalize()} job status: {updated_job.status} - Progress: {completed}/{total}\")\n",
    "        else:\n",
    "            output_lines.append(f\"{task_type.capitalize()} job completed!\")\n",
    "\n",
    "        # Clear the output and display updated status\n",
    "        clear_output(wait=True)\n",
    "        for line in output_lines:\n",
    "            display(line)\n",
    "\n",
    "        if not all_completed:\n",
    "            time.sleep(10)"
   ]
  },
  {
   "cell_type": "markdown",
   "id": "TkkhIG9HU0D9",
   "metadata": {
    "id": "TkkhIG9HU0D9"
   },
   "source": [
    "#### Get the results"
   ]
  },
  {
   "cell_type": "markdown",
   "id": "f311d260-c5f7-4fd9-9d63-b6f3c94f598b",
   "metadata": {},
   "source": [
    "Finally, this will retreive the results for each of the jobs."
   ]
  },
  {
   "cell_type": "code",
   "execution_count": 8,
   "id": "caA5djbLrJ4O",
   "metadata": {},
   "outputs": [],
   "source": [
    "def get_results(client, job_id):\n",
    "    batch_job = client.batches.retrieve(job.id)\n",
    "    result_file_id = batch_job.output_file_id\n",
    "    result = client.files.content(result_file_id).content\n",
    "    results = parse_json_objects(result)\n",
    "    answers = []\n",
    "    \n",
    "    for res in results:\n",
    "        task_id = res['custom_id']\n",
    "        result = res['response']['body']['choices'][0]['message']['content']\n",
    "        answers.append(result)\n",
    "    \n",
    "    return answers"
   ]
  },
  {
   "cell_type": "markdown",
   "id": "fb8c5014-5b0c-43c2-a238-073dbde2d90a",
   "metadata": {
    "id": "udPtLfTaisSw"
   },
   "source": [
    "## Fetch the data"
   ]
  },
  {
   "cell_type": "markdown",
   "id": "e6b9ad42-cc58-4054-a510-af09a8592635",
   "metadata": {},
   "source": [
    "With everything configured and our utility functions defined, it’s time to retrieve the dataset for our analysis. For this demonstration, we’ll be using the IMDb Top 1000 dataset, which contains information about top-rated movies, including their descriptions and genres."
   ]
  },
  {
   "cell_type": "code",
   "execution_count": 9,
   "id": "yC9wJlV4rwOh",
   "metadata": {},
   "outputs": [
    {
     "data": {
      "text/html": [
       "<div>\n",
       "<style scoped>\n",
       "    .dataframe tbody tr th:only-of-type {\n",
       "        vertical-align: middle;\n",
       "    }\n",
       "\n",
       "    .dataframe tbody tr th {\n",
       "        vertical-align: top;\n",
       "    }\n",
       "\n",
       "    .dataframe thead th {\n",
       "        text-align: right;\n",
       "    }\n",
       "</style>\n",
       "<table border=\"1\" class=\"dataframe\">\n",
       "  <thead>\n",
       "    <tr style=\"text-align: right;\">\n",
       "      <th></th>\n",
       "      <th>Series_Title</th>\n",
       "      <th>Genre</th>\n",
       "      <th>Overview</th>\n",
       "    </tr>\n",
       "  </thead>\n",
       "  <tbody>\n",
       "    <tr>\n",
       "      <th>0</th>\n",
       "      <td>The Shawshank Redemption</td>\n",
       "      <td>Drama</td>\n",
       "      <td>Two imprisoned men bond over a number of years, finding solace and eventual redemption through acts of common decency.</td>\n",
       "    </tr>\n",
       "    <tr>\n",
       "      <th>1</th>\n",
       "      <td>The Godfather</td>\n",
       "      <td>Crime, Drama</td>\n",
       "      <td>An organized crime dynasty's aging patriarch transfers control of his clandestine empire to his reluctant son.</td>\n",
       "    </tr>\n",
       "    <tr>\n",
       "      <th>2</th>\n",
       "      <td>The Dark Knight</td>\n",
       "      <td>Action, Crime, Drama</td>\n",
       "      <td>When the menace known as the Joker wreaks havoc and chaos on the people of Gotham, Batman must accept one of the greatest psychological and physical tests of his ability to fight injustice.</td>\n",
       "    </tr>\n",
       "  </tbody>\n",
       "</table>\n",
       "</div>"
      ],
      "text/plain": [
       "               Series_Title                 Genre                                                                                                                                                                                       Overview\n",
       "0  The Shawshank Redemption                 Drama                                                                         Two imprisoned men bond over a number of years, finding solace and eventual redemption through acts of common decency.\n",
       "1             The Godfather          Crime, Drama                                                                                 An organized crime dynasty's aging patriarch transfers control of his clandestine empire to his reluctant son.\n",
       "2           The Dark Knight  Action, Crime, Drama  When the menace known as the Joker wreaks havoc and chaos on the people of Gotham, Batman must accept one of the greatest psychological and physical tests of his ability to fight injustice."
      ]
     },
     "execution_count": 10,
     "metadata": {},
     "output_type": "execute_result"
    }
   ],
   "source": [
    "# IMDB Top 1000 dataset:\n",
    "url = \"https://raw.githubusercontent.com/kluster-ai/klusterai-cookbook/refs/heads/main/data/imdb_top_1000.csv\"\n",
    "urllib.request.urlretrieve(url,filename='imdb_top_1000.csv')\n",
    "\n",
    "# Load and process the dataset based on URL content\n",
    "df = pd.read_csv('imdb_top_1000.csv', usecols=['Series_Title', 'Overview', 'Genre'])\n",
    "df.head(3)"
   ]
  },
  {
   "cell_type": "markdown",
   "id": "50899394-29ac-48f2-95bb-a433d7dceae0",
   "metadata": {},
   "source": [
    "As you may notice, each movie already has a predefined label, and in some cases, there may be more than one label for each movie. For the purpose of this notebook, we will ask the model to identify just one genre. If the predicted genre matches at least one of the genres listed in the dataset’s genre column (our ground truth), we will consider the prediction to be correct."
   ]
  },
  {
   "cell_type": "markdown",
   "id": "4fe66a82-afc0-4fea-9b73-f33fe93f3e89",
   "metadata": {},
   "source": [
    "## Batch inference"
   ]
  },
  {
   "cell_type": "markdown",
   "id": "ebb5789f-8464-4355-8a21-3b49df240b57",
   "metadata": {},
   "source": [
    "Now, we define the prompt that will guide the model to perform the classification task. "
   ]
  },
  {
   "cell_type": "code",
   "execution_count": 11,
   "id": "3bb7f503-dbe5-4983-99e7-0794a0835ec1",
   "metadata": {},
   "outputs": [],
   "source": [
    "SYSTEM_PROMPT = '''\n",
    "    You are a helpful assitant that classifies movie genres based on the movie description. Choose one of the following options: \n",
    "    Action, Adventure, Animation, Biography, Comedy, Crime, Drama, Family, Fantasy, Film-Noir, History, Horror, Music, Musical, Mystery, Romance, Sci-Fi, Sport, Thriller, War, Western.\n",
    "    Provide your response as a single word with the matching genre. Don't include punctuation.\n",
    "    '''"
   ]
  },
  {
   "cell_type": "markdown",
   "id": "ee0af326-9658-4a40-8abe-746f08dd4251",
   "metadata": {},
   "source": [
    "Now that the prompt is defined, it’s time to execute the code and run the classification task for each model. In this step, we loop through the list of models, apply the defined prompt, and generate predictions for each movie in the dataset."
   ]
  },
  {
   "cell_type": "code",
   "execution_count": 12,
   "id": "fe1531a6-844e-4173-8122-a7bf871df06c",
   "metadata": {},
   "outputs": [
    {
     "data": {
      "text/plain": [
       "'405b model job completed!'"
      ]
     },
     "metadata": {},
     "output_type": "display_data"
    }
   ],
   "source": [
    "# Define models\n",
    "models = {\n",
    "        '8B':\"klusterai/Meta-Llama-3.1-8B-Instruct-Turbo\",\n",
    "        '70B_3_1':\"klusterai/Meta-Llama-3.1-70B-Instruct-Turbo\",\n",
    "        '70B_3_3':\"klusterai/Meta-Llama-3.3-70B-Instruct-Turbo\",\n",
    "        '405B':\"klusterai/Meta-Llama-3.1-405B-Instruct-Turbo\",\n",
    "        }\n",
    "\n",
    "# Process each model: create tasks, run jobs, and get results\n",
    "for name, model in models.items():\n",
    "    task_list = create_tasks(df, task_type='assistant', system_prompt=SYSTEM_PROMPT, model=model)\n",
    "    filename = save_tasks(task_list, task_type='assistant')\n",
    "    job = create_batch_job(filename)\n",
    "    monitor_job_status(client=client, job_id=job.id, task_type=f'{name} model')\n",
    "    df[f'{name}_genre'] = get_results(client=client, job_id=job.id)"
   ]
  },
  {
   "cell_type": "markdown",
   "id": "bef942aa-753e-40b2-a6c6-ea56bbdc7826",
   "metadata": {},
   "source": [
    "## Evaluating the results"
   ]
  },
  {
   "cell_type": "markdown",
   "id": "26ac1e99-edfe-4041-819e-1d366fbcfd68",
   "metadata": {},
   "source": [
    "To determine which model performs better, we will evaluate their classifications using the accuracy metric. Accuracy measures the proportion of correct classifications compared to the total number of classifications. \n",
    "\n",
    "Since each model is instructed to predict only one genre per movie, and some movies have multiple genres, we consider a classification correct if the predicted genre matches any of the ground truth genres provided in the dataset."
   ]
  },
  {
   "cell_type": "code",
   "execution_count": 13,
   "id": "b607c47b-f27e-46b7-b20a-ae6f585a7688",
   "metadata": {},
   "outputs": [
    {
     "data": {
      "image/png": "[encoded data removed]",
      "text/plain": [
       "<Figure size 640x480 with 1 Axes>"
      ]
     },
     "metadata": {},
     "output_type": "display_data"
    }
   ],
   "source": [
    "# Calculate accuracy for each model\n",
    "accuracies = {}\n",
    "for name, _ in models.items():\n",
    "    accuracy = df.apply(lambda row: row[f'{name}_genre'] in row['Genre'].split(', '), axis=1).mean()\n",
    "    accuracies[name] = accuracy\n",
    "\n",
    "# Create the bar plot\n",
    "fig, ax = plt.subplots()\n",
    "bars = ax.bar(accuracies.keys(), accuracies.values(), edgecolor='black')\n",
    "ax.bar_label(bars, label_type='center', color='white', fmt=\"%.3f\")\n",
    "ax.set_ylim(min(accuracies.values())-0.01, max(accuracies.values())+ 0.01)\n",
    "ax.set_xlabel('Model')\n",
    "ax.set_ylabel('Accuracy')\n",
    "ax.set_title('Classification accuracy by model')\n",
    "plt.show()"
   ]
  },
  {
   "cell_type": "markdown",
   "id": "8f836ec1-3eed-4dc5-8a2f-8cadb1f37464",
   "metadata": {},
   "source": [
    "Based on the graph, it’s clear that the 405B model is the absolute winner in terms of accuracy. However, the 70B models (both 70B 3.1 and 70B 3.3) also demonstrate excellent performance, achieving nearly the same level of accuracy. Given that the 70B models are significantly more cost-effective (check out the <a href=\"https://platform.kluster.ai/signup\" target=\"_blank\">pricing</a> table), the intelligent choice for this use case would be to select one of the 70B models."
   ]
  }
 ],
 "metadata": {
  "language_info": {
   "name": "python"
  }
 },
 "nbformat": 4,
 "nbformat_minor": 5
}
