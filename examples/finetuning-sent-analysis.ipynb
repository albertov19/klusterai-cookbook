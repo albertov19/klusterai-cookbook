{
 "cells": [
  {
   "cell_type": "markdown",
   "id": "be189fde-4e5b-4f80-bae1-ded86a5075a7",
   "metadata": {
    "id": "be189fde-4e5b-4f80-bae1-ded86a5075a7"
   },
   "source": [
    "# Fine-tuning"
   ]
  },
  {
   "cell_type": "markdown",
   "id": "b17a77d9",
   "metadata": {},
   "source": [
    "[![Open in Colab](https://colab.research.google.com/assets/colab-badge.svg)](https://colab.research.google.com/github/kluster-ai/klusterai-cookbook/blob/main/examples/.ipynb)"
   ]
  },
  {
   "cell_type": "markdown",
   "id": "559bd8bb-5e40-4546-882b-25192ca9c0e2",
   "metadata": {},
   "source": [
    "# Before publishing:\n",
    "- Correctly set the link in the Colab button\n",
    "- Remove following cells and replace the usage of staging API for productive API\n",
    "- change urls to the productive branch for both helper function and dataseet (now it is pointing to a non productive branch `refs/heads/joaquin/finetuning-sentiment/` )"
   ]
  },
  {
   "cell_type": "code",
   "execution_count": 1,
   "id": "5e1f91fa-ec0f-4843-852e-56a720b7e2db",
   "metadata": {},
   "outputs": [],
   "source": [
    "import os\n",
    "api_key_stg = os.getenv(\"KLUSTER_API_KEY_STG\")\n",
    "base_url = os.getenv(\"KLUSTER_BASE_URL\", \"https://api-r.klusterai.dev/v1\")\n",
    "\n",
    "if not api_key_stg:\n",
    "    raise ValueError(\"KLUSTER_API_KEY environment variable is not set\")"
   ]
  },
  {
   "cell_type": "code",
   "execution_count": 2,
   "id": "9e599b93-d419-4690-a295-1038d3286115",
   "metadata": {},
   "outputs": [],
   "source": [
    "from openai import OpenAI\n",
    "client_stg = OpenAI(\n",
    "    api_key=api_key_stg,\n",
    "    base_url=base_url\n",
    ")"
   ]
  },
  {
   "cell_type": "markdown",
   "id": "e867bee8-9173-473d-84c4-48c10b38cc2e",
   "metadata": {},
   "source": [
    "## Setting up your environment\n",
    "\n",
    "### API key configuration\n",
    "To get started with this tutorial, you'll need a kluster.ai API key. If you don't have one yet, follow these steps:\n",
    "1. Visit the <a href=\"https://platform.kluster.ai/signup\" target=\"_blank\">kluster.ai</a> to create an account.\n",
    "2. Generate your API key\n",
    "\n",
    "Once you have your API key, we'll use it to authenticate our requests to the kluster.ai API.\n",
    "\n",
    "### Important note\n",
    "Keep your API key secure and never share it publicly. In this notebook, we'll use Python's getpass module to safely input the key."
   ]
  },
  {
   "cell_type": "code",
   "execution_count": 3,
   "id": "fea31d82-acfc-4c40-a19d-08908b036783",
   "metadata": {},
   "outputs": [],
   "source": [
    "import os\n",
    "from getpass import getpass\n",
    "from dotenv import load_dotenv\n",
    "load_dotenv()\n",
    "\n",
    "# Try to get the API key from environment variables\n",
    "api_key = os.getenv('KLUSTER_API_KEY', None)\n",
    "\n",
    "if api_key is None:\n",
    "    print(\"API key not found in environment variables.\")\n",
    "    api_key = getpass(\"Enter your kluster.ai API key: \")\n",
    "\n",
    "    # Save the API key to the .env file\n",
    "    with open('.env', 'a') as env_file:\n",
    "        env_file.write(f\"KLUSTER_API_KEY={api_key}\\n\")"
   ]
  },
  {
   "cell_type": "code",
   "execution_count": 4,
   "id": "ad68612f-82f7-4519-823a-407e4e51e504",
   "metadata": {},
   "outputs": [
    {
     "name": "stdout",
     "output_type": "stream",
     "text": [
      "Note: you may need to restart the kernel to use updated packages.\n"
     ]
    }
   ],
   "source": [
    "%pip install -q OpenAI"
   ]
  },
  {
   "cell_type": "code",
   "execution_count": 5,
   "id": "6af45325-7087-49fe-b32b-0ff1d6537af7",
   "metadata": {},
   "outputs": [],
   "source": [
    "import urllib.request\n",
    "import pandas as pd\n",
    "from openai import OpenAI\n",
    "import time\n",
    "import json\n",
    "import matplotlib.pyplot as plt\n",
    "import seaborn as sns\n",
    "import os\n",
    "import requests\n",
    "pd.set_option('display.max_columns', 1000, 'display.width', 1000, 'display.max_rows',1000, 'display.max_colwidth', 500)\n",
    "\n",
    "# Import helper functions\n",
    "url = \"https://raw.githubusercontent.com/kluster-ai/klusterai-cookbook/refs/heads/joaquin/finetuning-sentiment/examples/helpers.py\"\n",
    "\n",
    "# Fetch the file and save it locally\n",
    "response = requests.get(url)\n",
    "with open(\"helpers.py\", \"w\") as f:\n",
    "    f.write(response.text)\n",
    "\n",
    "# Import the helper functions\n",
    "from helpers import create_tasks, save_tasks, create_batch_job, monitor_job_status, get_results\n"
   ]
  },
  {
   "cell_type": "code",
   "execution_count": 6,
   "id": "44a6f805-1c74-48a5-8572-0a5fb2c48286",
   "metadata": {},
   "outputs": [],
   "source": [
    "# Set up the client\n",
    "client_prod = OpenAI(\n",
    "    base_url=\"https://api.kluster.ai/v1\",\n",
    "    api_key=api_key,\n",
    ")"
   ]
  },
  {
   "cell_type": "markdown",
   "id": "fb8c5014-5b0c-43c2-a238-073dbde2d90a",
   "metadata": {
    "id": "udPtLfTaisSw"
   },
   "source": [
    "## Fetch a real dataset for batch inference"
   ]
  },
  {
   "cell_type": "code",
   "execution_count": 7,
   "id": "yC9wJlV4rwOh",
   "metadata": {},
   "outputs": [
    {
     "data": {
      "text/html": [
       "<div>\n",
       "<style scoped>\n",
       "    .dataframe tbody tr th:only-of-type {\n",
       "        vertical-align: middle;\n",
       "    }\n",
       "\n",
       "    .dataframe tbody tr th {\n",
       "        vertical-align: top;\n",
       "    }\n",
       "\n",
       "    .dataframe thead th {\n",
       "        text-align: right;\n",
       "    }\n",
       "</style>\n",
       "<table border=\"1\" class=\"dataframe\">\n",
       "  <thead>\n",
       "    <tr style=\"text-align: right;\">\n",
       "      <th></th>\n",
       "      <th>sentiment</th>\n",
       "      <th>text</th>\n",
       "    </tr>\n",
       "  </thead>\n",
       "  <tbody>\n",
       "    <tr>\n",
       "      <th>0</th>\n",
       "      <td>neutral</td>\n",
       "      <td>According to Gran , the company has no plans to move all production to Russia , although that is where the company is growing .</td>\n",
       "    </tr>\n",
       "    <tr>\n",
       "      <th>1</th>\n",
       "      <td>neutral</td>\n",
       "      <td>Technopolis plans to develop in stages an area of no less than 100,000 square meters in order to host companies working in computer technologies and telecommunications , the statement said .</td>\n",
       "    </tr>\n",
       "    <tr>\n",
       "      <th>2</th>\n",
       "      <td>negative</td>\n",
       "      <td>The international electronic industry company Elcoteq has laid off tens of employees from its Tallinn facility ; contrary to earlier layoffs the company contracted the ranks of its office workers , the daily Postimees reported .</td>\n",
       "    </tr>\n",
       "  </tbody>\n",
       "</table>\n",
       "</div>"
      ],
      "text/plain": [
       "  sentiment                                                                                                                                                                                                                                  text\n",
       "0   neutral                                                                                                       According to Gran , the company has no plans to move all production to Russia , although that is where the company is growing .\n",
       "1   neutral                                        Technopolis plans to develop in stages an area of no less than 100,000 square meters in order to host companies working in computer technologies and telecommunications , the statement said .\n",
       "2  negative  The international electronic industry company Elcoteq has laid off tens of employees from its Tallinn facility ; contrary to earlier layoffs the company contracted the ranks of its office workers , the daily Postimees reported ."
      ]
     },
     "execution_count": 7,
     "metadata": {},
     "output_type": "execute_result"
    }
   ],
   "source": [
    "url = \"https://raw.githubusercontent.com/kluster-ai/klusterai-cookbook/joaquin/finetuning-sentiment/data/financial-phrasebank.csv\"\n",
    "urllib.request.urlretrieve(url,filename='financial-phrasebank.csv')\n",
    "\n",
    "# Load and process the dataset based on URL content\n",
    "df = pd.read_csv('financial-phrasebank.csv', encoding = \"ISO-8859-1\",header=None, names=[\"sentiment\", \"text\"])\n",
    "df = df.iloc[:1000]\n",
    "df.head(3)"
   ]
  },
  {
   "cell_type": "markdown",
   "id": "0a03d805-0d59-42ce-ac2a-4f9beacd639b",
   "metadata": {},
   "source": [
    "#### Train-test split for fine-tuning"
   ]
  },
  {
   "cell_type": "code",
   "execution_count": 8,
   "id": "de8b2580-43ba-438f-8aab-4916a4c1fb70",
   "metadata": {},
   "outputs": [],
   "source": [
    "from sklearn.model_selection import train_test_split\n",
    "# Split into train and test sets\n",
    "train_df, test_df = train_test_split(df, test_size=0.9, random_state=42)"
   ]
  },
  {
   "cell_type": "code",
   "execution_count": 9,
   "id": "cb5b6d85-aea0-4c77-97d5-a8cb007fa43c",
   "metadata": {},
   "outputs": [
    {
     "data": {
      "text/plain": [
       "100"
      ]
     },
     "execution_count": 9,
     "metadata": {},
     "output_type": "execute_result"
    }
   ],
   "source": [
    "len(train_df)"
   ]
  },
  {
   "cell_type": "markdown",
   "id": "8ebefac4-cb4c-4e75-af96-c827b5668188",
   "metadata": {},
   "source": [
    "# Finetuning"
   ]
  },
  {
   "cell_type": "code",
   "execution_count": 31,
   "id": "f4903010-b32f-47d0-9a01-6be8e0938328",
   "metadata": {},
   "outputs": [],
   "source": [
    "# Generate JSONLines file\n",
    "with open(\"finetuning/data/sentiment.jsonl\", \"w\") as f:\n",
    "    for _, row in train_df.iterrows():\n",
    "        # Create the message structure\n",
    "        messages = {\n",
    "            \"messages\": [\n",
    "                {\"role\": \"system\", \"content\": SYSTEM_PROMPT},\n",
    "                {\"role\": \"user\", \"content\": row['text']},\n",
    "                {\"role\": \"assistant\", \"content\": row[\"sentiment\"]}\n",
    "            ]\n",
    "        }\n",
    "        # Write to the file as a single JSON object per line\n",
    "        f.write(json.dumps(messages) + \"\\n\")"
   ]
  },
  {
   "cell_type": "code",
   "execution_count": 32,
   "id": "653ff10c-59bb-443d-b031-c6678744bdfc",
   "metadata": {},
   "outputs": [
    {
     "name": "stdout",
     "output_type": "stream",
     "text": [
      "File uploaded successfully. File ID: 678a92129865c142b39dab99\n"
     ]
    }
   ],
   "source": [
    "data_dir = 'finetuning/data/sentiment.jsonl'\n",
    "\n",
    "with open(data_dir, 'rb') as file:\n",
    "    upload_response = client_stg.files.create(\n",
    "        file=file,\n",
    "        purpose=\"fine-tune\"\n",
    "    )\n",
    "    file_id = upload_response.id\n",
    "    print(f\"File uploaded successfully. File ID: {file_id}\")"
   ]
  },
  {
   "cell_type": "code",
   "execution_count": 33,
   "id": "9c4bcef6-aee7-4d3e-9161-9465ac6656db",
   "metadata": {},
   "outputs": [
    {
     "name": "stdout",
     "output_type": "stream",
     "text": [
      "\n",
      "Fine-tuning job created:\n",
      "{\n",
      "  \"id\": \"678a9216da5fe6a8dc4dfd52\",\n",
      "  \"created_at\": 1737134614,\n",
      "  \"error\": null,\n",
      "  \"fine_tuned_model\": null,\n",
      "  \"finished_at\": null,\n",
      "  \"hyperparameters\": {\n",
      "    \"n_epochs\": \"auto\",\n",
      "    \"batch_size\": \"auto\",\n",
      "    \"learning_rate_multiplier\": \"auto\"\n",
      "  },\n",
      "  \"model\": \"klusterai/Meta-Llama-3.1-8B-Instruct-Turbo\",\n",
      "  \"object\": \"fine_tuning.job\",\n",
      "  \"organization_id\": null,\n",
      "  \"result_files\": [],\n",
      "  \"seed\": null,\n",
      "  \"status\": \"queued\",\n",
      "  \"trained_tokens\": null,\n",
      "  \"training_file\": \"678a92129865c142b39dab99\",\n",
      "  \"validation_file\": null,\n",
      "  \"estimated_finish\": null,\n",
      "  \"integrations\": []\n",
      "}\n"
     ]
    }
   ],
   "source": [
    "job = client_stg.fine_tuning.jobs.create(\n",
    "    training_file=file_id,\n",
    "    model=\"klusterai/Meta-Llama-3.1-8B-Instruct-Turbo\",\n",
    "    #hyperparameters={\n",
    "    #    \"batch_size\": 4,\n",
    "    #    \"n_epochs\": 2,\n",
    "    #    \"learning_rate_multiplier\": 1\n",
    "    #}\n",
    ")\n",
    "print(\"\\nFine-tuning job created:\")\n",
    "print(json.dumps(job.model_dump(), indent=2))"
   ]
  },
  {
   "cell_type": "code",
   "execution_count": 34,
   "id": "419c1ad3-617c-4d5f-aa57-86f7f48cec05",
   "metadata": {},
   "outputs": [
    {
     "name": "stdout",
     "output_type": "stream",
     "text": [
      "\n",
      "Current status: running\n",
      "\n",
      "Job events:\n",
      "[\n",
      "  {\n",
      "    \"id\": \"678a921632c62f8a365f637b\",\n",
      "    \"created_at\": 1737134614,\n",
      "    \"level\": \"info\",\n",
      "    \"message\": \"Files validated, moving job to queued state\",\n",
      "    \"object\": \"fine_tuning.job.event\",\n",
      "    \"data\": {},\n",
      "    \"type\": \"message\"\n",
      "  },\n",
      "  {\n",
      "    \"id\": \"678a921632c62f8a365f6376\",\n",
      "    \"created_at\": 1737134614,\n",
      "    \"level\": \"info\",\n",
      "    \"message\": \"Validating training file: 678a92129865c142b39dab99\",\n",
      "    \"object\": \"fine_tuning.job.event\",\n",
      "    \"data\": {},\n",
      "    \"type\": \"message\"\n",
      "  },\n",
      "  {\n",
      "    \"id\": \"678a9216da5fe6a8dc4dfd54\",\n",
      "    \"created_at\": 1737134614,\n",
      "    \"level\": \"info\",\n",
      "    \"message\": \"Created fine-tuning job: 678a9216da5fe6a8dc4dfd52\",\n",
      "    \"object\": \"fine_tuning.job.event\",\n",
      "    \"data\": {},\n",
      "    \"type\": \"message\"\n",
      "  },\n",
      "  {\n",
      "    \"id\": \"678a9224853dcb9e256b94dd\",\n",
      "    \"created_at\": 1737134627,\n",
      "    \"level\": \"info\",\n",
      "    \"message\": \"Step 1/270: training loss=4.157246112823486\",\n",
      "    \"object\": \"fine_tuning.job.event\",\n",
      "    \"data\": {},\n",
      "    \"type\": \"message\"\n",
      "  }\n",
      "  {\n",
      "    \"id\": \"678a93a3853dcb9e256b9678\",\n",
      "    \"created_at\": 1737135010,\n",
      "    \"level\": \"info\",\n",
      "    \"message\": \"Step 270/270: training loss=0.23182962834835052, validation loss=0.9913114444938248, full validation loss=0.9913114444938248\",\n",
      "    \"object\": \"fine_tuning.job.event\",\n",
      "    \"data\": {},\n",
      "    \"type\": \"message\"\n",
      "  },\n",
      "  {\n",
      "    \"id\": \"678a93bb32c62f8a365f6521\",\n",
      "    \"created_at\": 1737135035,\n",
      "    \"level\": \"info\",\n",
      "    \"message\": \"The job has successfully completed\",\n",
      "    \"object\": \"fine_tuning.job.event\",\n",
      "    \"data\": {},\n",
      "    \"type\": \"message\"\n",
      "  },\n",
      "  {\n",
      "    \"id\": \"678a93bb32c62f8a365f651f\",\n",
      "    \"created_at\": 1737135035,\n",
      "    \"level\": \"info\",\n",
      "    \"message\": \"New fine-tuned model created\",\n",
      "    \"object\": \"fine_tuning.job.event\",\n",
      "    \"data\": {},\n",
      "    \"type\": \"message\"\n",
      "  },\n",
      "  {\n",
      "    \"id\": \"678a93bb32c62f8a365f651d\",\n",
      "    \"created_at\": 1737135035,\n",
      "    \"level\": \"info\",\n",
      "    \"message\": \"Checkpoint created at step 90\",\n",
      "    \"object\": \"fine_tuning.job.event\",\n",
      "    \"data\": {},\n",
      "    \"type\": \"message\"\n",
      "  },\n",
      "  {\n",
      "    \"id\": \"678a93bb32c62f8a365f651a\",\n",
      "    \"created_at\": 1737135035,\n",
      "    \"level\": \"info\",\n",
      "    \"message\": \"Checkpoint created at step 45\",\n",
      "    \"object\": \"fine_tuning.job.event\",\n",
      "    \"data\": {},\n",
      "    \"type\": \"message\"\n",
      "  },\n",
      "  {\n",
      "    \"id\": \"678a93bb32c62f8a365f6517\",\n",
      "    \"created_at\": 1737135035,\n",
      "    \"level\": \"info\",\n",
      "    \"message\": \"Checkpoint created at step 225\",\n",
      "    \"object\": \"fine_tuning.job.event\",\n",
      "    \"data\": {},\n",
      "    \"type\": \"message\"\n",
      "  },\n",
      "  {\n",
      "    \"id\": \"678a93bb32c62f8a365f6514\",\n",
      "    \"created_at\": 1737135035,\n",
      "    \"level\": \"info\",\n",
      "    \"message\": \"Checkpoint created at step 180\",\n",
      "    \"object\": \"fine_tuning.job.event\",\n",
      "    \"data\": {},\n",
      "    \"type\": \"message\"\n",
      "  },\n",
      "  {\n",
      "    \"id\": \"678a93bb32c62f8a365f6511\",\n",
      "    \"created_at\": 1737135035,\n",
      "    \"level\": \"info\",\n",
      "    \"message\": \"Checkpoint created at step 135\",\n",
      "    \"object\": \"fine_tuning.job.event\",\n",
      "    \"data\": {},\n",
      "    \"type\": \"message\"\n",
      "  }\n",
      "]\n"
     ]
    }
   ],
   "source": [
    "while True:\n",
    "    job_status = client_stg.fine_tuning.jobs.retrieve(job.id)\n",
    "    status = job_status.status\n",
    "    print(f\"\\nCurrent status: {status}\")\n",
    "    \n",
    "    events = client_stg.fine_tuning.jobs.list_events(job.id)\n",
    "    events_list = [e.model_dump() for e in events]\n",
    "    events_list.sort(key=lambda x: x['created_at'])\n",
    "    print(\"\\nJob events:\")\n",
    "    print(json.dumps(events_list, indent=2))\n",
    "    \n",
    "    if status in [\"succeeded\", \"failed\", \"cancelled\"]:\n",
    "        break\n",
    "    \n",
    "    time.sleep(10)\n"
   ]
  },
  {
   "cell_type": "code",
   "execution_count": 35,
   "id": "e0c474a4-89ac-40c2-a1fe-a9d1e9267d13",
   "metadata": {},
   "outputs": [],
   "source": [
    "fine_tuned_model = job_status.fine_tuned_model"
   ]
  },
  {
   "cell_type": "code",
   "execution_count": 36,
   "id": "11dfc4b1-6b88-4379-a3b6-ecdd0026ba43",
   "metadata": {},
   "outputs": [
    {
     "data": {
      "text/plain": [
       "'ft:klusterai:Meta-Llama-3.1-8B-Instruct-Turbo:personal::aacc8010'"
      ]
     },
     "execution_count": 36,
     "metadata": {},
     "output_type": "execute_result"
    }
   ],
   "source": [
    "job_status.fine_tuned_model"
   ]
  },
  {
   "cell_type": "markdown",
   "id": "85c41457-2f31-4e98-aa55-3a42a478b8e7",
   "metadata": {},
   "source": [
    "## Performing batch inference"
   ]
  },
  {
   "cell_type": "markdown",
   "id": "598eeeac-84dc-40eb-a64d-19ee80114bb8",
   "metadata": {},
   "source": [
    "With LLMs it is really important to write a good prompt, including the system prompt. Below you can see our example instruction for the LLM. This is something you should experiment with and see how it changes the performance!"
   ]
  },
  {
   "cell_type": "code",
   "execution_count": 10,
   "id": "3bb7f503-dbe5-4983-99e7-0794a0835ec1",
   "metadata": {},
   "outputs": [],
   "source": [
    "SYSTEM_PROMPT = '''\n",
    "    You are a helpful assistant specializing in determining the sentiment of financial news. \n",
    "    Analyze the following text regarding financial information and assign one of the following labels to indicate its sentiment: positive, negative, or neutral. \n",
    "    Provide your response as a single word without any punctuation.\n",
    "    '''"
   ]
  },
  {
   "cell_type": "markdown",
   "id": "c4f5a51c-fc39-4567-b85d-95a98d5f9c98",
   "metadata": {},
   "source": [
    "Now that the prompt is defined, it’s time to execute the code and run the classification task for each model. In this step, we loop through the list of models, creating the requests and batch jobs, monitoring progress and retrieving the results.\n"
   ]
  },
  {
   "cell_type": "code",
   "execution_count": 12,
   "id": "fe1531a6-844e-4173-8122-a7bf871df06c",
   "metadata": {},
   "outputs": [
    {
     "data": {
      "text/plain": [
       "'Ft_8b model job completed!'"
      ]
     },
     "metadata": {},
     "output_type": "display_data"
    }
   ],
   "source": [
    "# Define models\n",
    "models = {\n",
    "        '8B':\"klusterai/Meta-Llama-3.1-8B-Instruct-Turbo\",\n",
    "        '70B':\"klusterai/Meta-Llama-3.3-70B-Instruct-Turbo\",\n",
    "        '405B':\"klusterai/Meta-Llama-3.1-405B-Instruct-Turbo\",\n",
    "        'ft_8B': fine_tuned_model\n",
    "        }\n",
    "\n",
    "# Process each model: create tasks, run jobs, and get results\n",
    "for name, model in models.items():\n",
    "    task_list = create_tasks(test_df, task_type='assistant', system_prompt=SYSTEM_PROMPT, model=model, content_column='text')\n",
    "    filename = save_tasks(task_list, task_type='assistant')\n",
    "    if name != 'ft_8B':\n",
    "        job = create_batch_job(filename, client=client_prod)\n",
    "        monitor_job_status(client=client_prod, job_id=job.id, task_type=f'{name} model')\n",
    "        test_df[f'answer_base_{name}'] = get_results(client=client_prod, job_id=job.id)\n",
    "    else:\n",
    "        job = create_batch_job(filename, client=client_stg)\n",
    "        monitor_job_status(client=client_stg, job_id=job.id, task_type=f'{name} model')\n",
    "        test_df[f'answer_{name}'] = get_results(client=client_stg, job_id=job.id)"
   ]
  },
  {
   "cell_type": "code",
   "execution_count": 13,
   "id": "a0f539e6-4db6-49e3-af00-8bea1772fab4",
   "metadata": {},
   "outputs": [
    {
     "data": {
      "text/html": [
       "<div>\n",
       "<style scoped>\n",
       "    .dataframe tbody tr th:only-of-type {\n",
       "        vertical-align: middle;\n",
       "    }\n",
       "\n",
       "    .dataframe tbody tr th {\n",
       "        vertical-align: top;\n",
       "    }\n",
       "\n",
       "    .dataframe thead th {\n",
       "        text-align: right;\n",
       "    }\n",
       "</style>\n",
       "<table border=\"1\" class=\"dataframe\">\n",
       "  <thead>\n",
       "    <tr style=\"text-align: right;\">\n",
       "      <th></th>\n",
       "      <th>sentiment</th>\n",
       "      <th>text</th>\n",
       "      <th>answer_base_8B</th>\n",
       "      <th>answer_base_70B</th>\n",
       "      <th>answer_base_405B</th>\n",
       "      <th>answer_ft_8B</th>\n",
       "    </tr>\n",
       "  </thead>\n",
       "  <tbody>\n",
       "    <tr>\n",
       "      <th>461</th>\n",
       "      <td>positive</td>\n",
       "      <td>Under the terms of the off-take agreement with Talvivaara , Cameco will provide an up-front investment , to a maximum of $ 60 million , to cover the construction cost of the uranium extraction circuit .</td>\n",
       "      <td>neutral</td>\n",
       "      <td>positive</td>\n",
       "      <td>positive</td>\n",
       "      <td>positive</td>\n",
       "    </tr>\n",
       "    <tr>\n",
       "      <th>455</th>\n",
       "      <td>positive</td>\n",
       "      <td>The contracts have been signed to acquire uranium produced at the Sotkamo nickel-zinc mine in eastern Finland owned by Talvivaara .</td>\n",
       "      <td>neutral</td>\n",
       "      <td>positive</td>\n",
       "      <td>Neutral</td>\n",
       "      <td>positive</td>\n",
       "    </tr>\n",
       "    <tr>\n",
       "      <th>996</th>\n",
       "      <td>positive</td>\n",
       "      <td>These moderate but significant changes resulted in a significant 24-32 % reduction in the estimated CVD risk .</td>\n",
       "      <td>positive</td>\n",
       "      <td>positive</td>\n",
       "      <td>positive</td>\n",
       "      <td>positive</td>\n",
       "    </tr>\n",
       "  </tbody>\n",
       "</table>\n",
       "</div>"
      ],
      "text/plain": [
       "    sentiment                                                                                                                                                                                                        text answer_base_8B answer_base_70B answer_base_405B answer_ft_8B\n",
       "461  positive  Under the terms of the off-take agreement with Talvivaara , Cameco will provide an up-front investment , to a maximum of $ 60 million , to cover the construction cost of the uranium extraction circuit .        neutral        positive         positive     positive\n",
       "455  positive                                                                         The contracts have been signed to acquire uranium produced at the Sotkamo nickel-zinc mine in eastern Finland owned by Talvivaara .        neutral        positive          Neutral     positive\n",
       "996  positive                                                                                              These moderate but significant changes resulted in a significant 24-32 % reduction in the estimated CVD risk .       positive        positive         positive     positive"
      ]
     },
     "execution_count": 13,
     "metadata": {},
     "output_type": "execute_result"
    }
   ],
   "source": [
    "test_df.tail(3)"
   ]
  },
  {
   "cell_type": "markdown",
   "id": "26ac1e99-edfe-4041-819e-1d366fbcfd68",
   "metadata": {},
   "source": [
    "## Analyzing the Results"
   ]
  },
  {
   "cell_type": "code",
   "execution_count": 14,
   "id": "b6654619-712c-4a08-b43b-6fdb6caaa871",
   "metadata": {},
   "outputs": [
    {
     "name": "stderr",
     "output_type": "stream",
     "text": [
      "/var/folders/lf/m3hzxk7j1ns1bt50twyl8hmr0000gn/T/ipykernel_91420/1163933663.py:17: FutureWarning: \n",
      "\n",
      "Passing `palette` without assigning `hue` is deprecated and will be removed in v0.14.0. Assign the `y` variable to `hue` and set `legend=False` for the same effect.\n",
      "\n",
      "  sns.barplot(y=list(accuracies.keys()), x=list(accuracies.values()), palette=\"viridis\", edgecolor='black', ax=ax)\n"
     ]
    },
    {
     "data": {
      "image/png": "[encoded data removed]",
      "text/plain": [
       "<Figure size 600x400 with 1 Axes>"
      ]
     },
     "metadata": {},
     "output_type": "display_data"
    }
   ],
   "source": [
    "# Rename dictionary\n",
    "rename_dict = {\n",
    "    'answer_base_8B': 'Base 8b model',\n",
    "    'answer_base_70B': 'Base 70b model',\n",
    "    'answer_base_405B': 'Base 405b model',\n",
    "    'answer_ft_8B': 'Fine Tuned 8b model',\n",
    "}\n",
    "\n",
    "# Calculate accuracy for each model with renamed keys\n",
    "accuracies = {}\n",
    "for name in rename_dict:\n",
    "    accuracy = test_df.apply(lambda row: row[name] in row['sentiment'], axis=1).mean()\n",
    "    accuracies[rename_dict[name]] = accuracy\n",
    "\n",
    "# Horizontal bar chart\n",
    "fig, ax = plt.subplots(figsize=(6, 4))\n",
    "sns.barplot(y=list(accuracies.keys()), x=list(accuracies.values()), palette=\"viridis\", edgecolor='black', ax=ax)\n",
    "\n",
    "# Add labels to bars\n",
    "for i, bar in enumerate(ax.patches):\n",
    "    ax.text(bar.get_width() - 0.02, \n",
    "            bar.get_y() + bar.get_height() / 2, \n",
    "            f\"{list(accuracies.values())[i]:.3f}\", \n",
    "            ha='right', va='center', color='white', fontsize=12, fontweight='bold')\n",
    "\n",
    "# Set plot aesthetics\n",
    "ax.set_xlim(0, max(accuracies.values()) + 0.05)\n",
    "ax.set_xlabel('Accuracy', fontsize=12)\n",
    "ax.set_ylabel('Model', fontsize=12)\n",
    "ax.set_title('Classification Accuracy by Model', fontsize=14, fontweight='bold')\n",
    "sns.despine()\n",
    "\n",
    "# Show the plot\n",
    "plt.tight_layout()\n",
    "plt.show()"
   ]
  },
  {
   "cell_type": "code",
   "execution_count": null,
   "id": "edb880d9-13ad-4ef8-a2f6-ece194d4ba4d",
   "metadata": {},
   "outputs": [],
   "source": []
  },
  {
   "cell_type": "code",
   "execution_count": null,
   "id": "7b0fe329-269e-44e9-aefb-f2542b05f5f4",
   "metadata": {},
   "outputs": [],
   "source": []
  }
 ],
 "metadata": {
  "language_info": {
   "name": "python"
  }
 },
 "nbformat": 4,
 "nbformat_minor": 5
}
