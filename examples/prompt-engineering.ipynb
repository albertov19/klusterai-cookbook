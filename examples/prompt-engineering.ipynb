{
 "cells": [
  {
   "cell_type": "markdown",
   "id": "be189fde-4e5b-4f80-bae1-ded86a5075a7",
   "metadata": {
    "id": "be189fde-4e5b-4f80-bae1-ded86a5075a7"
   },
   "source": [
    "# Prompt engineering to improve results"
   ]
  },
  {
   "cell_type": "markdown",
   "id": "b17a77d9",
   "metadata": {},
   "source": [
    "[![Open in Colab](https://colab.research.google.com/assets/colab-badge.svg)](https://colab.research.google.com/github/kluster-ai/klusterai-cookbook/blob/main/examples/prompt-engineering.ipynb)"
   ]
  },
  {
   "cell_type": "markdown",
   "id": "xU1WBQJ7Uh09",
   "metadata": {
    "id": "xU1WBQJ7Uh09"
   },
   "source": [
    "## Config"
   ]
  },
  {
   "cell_type": "markdown",
   "id": "4ace7b9c-eb77-4f6a-a3c2-eb75581ed427",
   "metadata": {},
   "source": [
    "Enter your personal kluster.ai API key (make sure it has no blank spaces). Remember to <a href=\"https://platform.kluster.ai/signup\" target=\"_blank\">sign up</a> if you don't have one yet."
   ]
  },
  {
   "cell_type": "code",
   "execution_count": 1,
   "id": "4911e5eb-7463-4a6b-8a99-9313cecd9d4d",
   "metadata": {},
   "outputs": [
    {
     "name": "stdin",
     "output_type": "stream",
     "text": [
      "Enter your kluster.ai API key:  ········\n"
     ]
    }
   ],
   "source": [
    "from getpass import getpass\n",
    "# Enter you personal kluster.ai API key (make sure in advance it has no blank spaces)\n",
    "api_key = getpass(\"Enter your kluster.ai API key: \")"
   ]
  },
  {
   "cell_type": "markdown",
   "id": "650e5559-69c7-4274-8700-a7d94791e9db",
   "metadata": {
    "id": "650e5559-69c7-4274-8700-a7d94791e9db"
   },
   "source": [
    "## Setup"
   ]
  },
  {
   "cell_type": "code",
   "execution_count": 2,
   "id": "bcc3d475-8f49-4fc4-9a5e-c6eb6866d2b5",
   "metadata": {},
   "outputs": [
    {
     "name": "stdout",
     "output_type": "stream",
     "text": [
      "Note: you may need to restart the kernel to use updated packages.\n"
     ]
    }
   ],
   "source": [
    "%pip install -q OpenAI"
   ]
  },
  {
   "cell_type": "code",
   "execution_count": 3,
   "id": "b89a4feb-37a9-430d-a742-cd58495b4eaf",
   "metadata": {},
   "outputs": [],
   "source": [
    "import os\n",
    "import urllib.request\n",
    "import pandas as pd\n",
    "import numpy as np\n",
    "import random\n",
    "import requests\n",
    "from openai import OpenAI\n",
    "import time\n",
    "import json\n",
    "from IPython.display import clear_output, display\n",
    "\n",
    "pd.set_option('display.max_columns', 1000, 'display.width', 1000, 'display.max_rows',1000, 'display.max_colwidth', 500)"
   ]
  },
  {
   "cell_type": "code",
   "execution_count": 4,
   "id": "zG9y_WO5rYaj",
   "metadata": {},
   "outputs": [],
   "source": [
    "# Set up the client\n",
    "client = OpenAI(\n",
    "    base_url=\"https://api.kluster.ai/v1\",\n",
    "    api_key=api_key,\n",
    ")"
   ]
  },
  {
   "cell_type": "markdown",
   "id": "udPtLfTaisSw",
   "metadata": {
    "id": "udPtLfTaisSw"
   },
   "source": [
    "## 1. Perform a classification task"
   ]
  },
  {
   "cell_type": "code",
   "execution_count": 5,
   "id": "yC9wJlV4rwOh",
   "metadata": {},
   "outputs": [
    {
     "data": {
      "text/html": [
       "<div>\n",
       "<style scoped>\n",
       "    .dataframe tbody tr th:only-of-type {\n",
       "        vertical-align: middle;\n",
       "    }\n",
       "\n",
       "    .dataframe tbody tr th {\n",
       "        vertical-align: top;\n",
       "    }\n",
       "\n",
       "    .dataframe thead th {\n",
       "        text-align: right;\n",
       "    }\n",
       "</style>\n",
       "<table border=\"1\" class=\"dataframe\">\n",
       "  <thead>\n",
       "    <tr style=\"text-align: right;\">\n",
       "      <th></th>\n",
       "      <th>Series_Title</th>\n",
       "      <th>Genre</th>\n",
       "      <th>Overview</th>\n",
       "    </tr>\n",
       "  </thead>\n",
       "  <tbody>\n",
       "    <tr>\n",
       "      <th>0</th>\n",
       "      <td>The Shawshank Redemption</td>\n",
       "      <td>Drama</td>\n",
       "      <td>Two imprisoned men bond over a number of years, finding solace and eventual redemption through acts of common decency.</td>\n",
       "    </tr>\n",
       "    <tr>\n",
       "      <th>1</th>\n",
       "      <td>The Godfather</td>\n",
       "      <td>Crime, Drama</td>\n",
       "      <td>An organized crime dynasty's aging patriarch transfers control of his clandestine empire to his reluctant son.</td>\n",
       "    </tr>\n",
       "    <tr>\n",
       "      <th>2</th>\n",
       "      <td>The Dark Knight</td>\n",
       "      <td>Action, Crime, Drama</td>\n",
       "      <td>When the menace known as the Joker wreaks havoc and chaos on the people of Gotham, Batman must accept one of the greatest psychological and physical tests of his ability to fight injustice.</td>\n",
       "    </tr>\n",
       "  </tbody>\n",
       "</table>\n",
       "</div>"
      ],
      "text/plain": [
       "               Series_Title                 Genre                                                                                                                                                                                       Overview\n",
       "0  The Shawshank Redemption                 Drama                                                                         Two imprisoned men bond over a number of years, finding solace and eventual redemption through acts of common decency.\n",
       "1             The Godfather          Crime, Drama                                                                                 An organized crime dynasty's aging patriarch transfers control of his clandestine empire to his reluctant son.\n",
       "2           The Dark Knight  Action, Crime, Drama  When the menace known as the Joker wreaks havoc and chaos on the people of Gotham, Batman must accept one of the greatest psychological and physical tests of his ability to fight injustice."
      ]
     },
     "execution_count": 5,
     "metadata": {},
     "output_type": "execute_result"
    }
   ],
   "source": [
    "# IMDB Top 1000 dataset:\n",
    "url = \"https://raw.githubusercontent.com/kluster-ai/klusterai-cookbook/refs/heads/main/data/imdb_top_1000.csv\"\n",
    "urllib.request.urlretrieve(url,filename='imdb_top_1000.csv')\n",
    "\n",
    "# Load and process the dataset based on URL content\n",
    "df = pd.read_csv('imdb_top_1000.csv', usecols=['Series_Title', 'Overview', 'Genre'])\n",
    "df.head(3)"
   ]
  },
  {
   "cell_type": "markdown",
   "id": "ff66e40d-1b4a-4f64-aa93-022b627be483",
   "metadata": {
    "id": "Ew-R24Ltp5EW"
   },
   "source": [
    "#### Create the Batch File"
   ]
  },
  {
   "cell_type": "code",
   "execution_count": 6,
   "id": "fVtwyqZ_nEq7",
   "metadata": {},
   "outputs": [],
   "source": [
    "def create_tasks(df, task_type, system_prompt, model):\n",
    "    tasks = []\n",
    "    for index, row in df.iterrows():\n",
    "        content = row['Overview']\n",
    "        \n",
    "        task = {\n",
    "            \"custom_id\": f\"{task_type}-{index}\",\n",
    "            \"method\": \"POST\",\n",
    "            \"url\": \"/v1/chat/completions\",\n",
    "            \"body\": {\n",
    "                \"model\": model,\n",
    "                \"temperature\": 0.5,\n",
    "                \"response_format\": {\"type\": \"json_object\"},\n",
    "                \"messages\": [\n",
    "                    {\"role\": \"system\", \"content\": system_prompt},\n",
    "                    {\"role\": \"user\", \"content\": content},\n",
    "                ],\n",
    "            }\n",
    "        }\n",
    "        tasks.append(task)\n",
    "    return tasks\n",
    "\n",
    "def save_tasks(tasks, task_type):\n",
    "    filename = f\"batch_tasks_{task_type}.jsonl\"\n",
    "    with open(filename, 'w') as file:\n",
    "        for task in tasks:\n",
    "            file.write(json.dumps(task) + '\\n')\n",
    "    return filename"
   ]
  },
  {
   "cell_type": "code",
   "execution_count": 7,
   "id": "qNhmrmHdnp7g",
   "metadata": {},
   "outputs": [],
   "source": [
    "ASSISTANT_PROMPT = '''\n",
    "    You are a helpful assitant that classifies movie genres based on the movie description. Choose one of the following options: \n",
    "    Action, Adventure, Animation, Biography, Comedy, Crime, Drama, Family, Fantasy, Film-Noir, History, Horror, Music, Musical, Mystery, Romance, Sci-Fi, Sport, Thriller, War, Western.\n",
    "    Provide your response as a single word with the matching genre.\n",
    "    '''\n",
    "\n",
    "task_list = create_tasks(df, system_prompt=ASSISTANT_PROMPT, model=\"klusterai/Meta-Llama-3.1-8B-Instruct-Turbo\", task_type='assistant')\n",
    "filename = save_tasks(task_list, task_type='assistant')"
   ]
  },
  {
   "cell_type": "markdown",
   "id": "xArKu7-sqSiR",
   "metadata": {
    "id": "xArKu7-sqSiR"
   },
   "source": [
    "#### Upload Batch File to kluster.ai"
   ]
  },
  {
   "cell_type": "code",
   "execution_count": 8,
   "id": "l5eu5UyAnEtk",
   "metadata": {},
   "outputs": [
    {
     "name": "stdout",
     "output_type": "stream",
     "text": [
      "Creating batch job for batch_tasks_assistant.jsonl\n"
     ]
    }
   ],
   "source": [
    "def create_batch_job(file_name):\n",
    "    print(f\"Creating batch job for {file_name}\")\n",
    "    batch_file = client.files.create(\n",
    "        file=open(file_name, \"rb\"),\n",
    "        purpose=\"batch\"\n",
    "    )\n",
    "\n",
    "    batch_job = client.batches.create(\n",
    "        input_file_id=batch_file.id,\n",
    "        endpoint=\"/v1/chat/completions\",\n",
    "        completion_window=\"24h\"\n",
    "    )\n",
    "\n",
    "    return batch_job\n",
    "\n",
    "job = create_batch_job(filename)"
   ]
  },
  {
   "cell_type": "markdown",
   "id": "e-ujphILqepu",
   "metadata": {
    "id": "e-ujphILqepu"
   },
   "source": [
    "#### Check Job progress"
   ]
  },
  {
   "cell_type": "code",
   "execution_count": 9,
   "id": "SuH0CfoqjP3d",
   "metadata": {},
   "outputs": [
    {
     "data": {
      "text/plain": [
       "'Assistant job completed!'"
      ]
     },
     "metadata": {},
     "output_type": "display_data"
    }
   ],
   "source": [
    "def parse_json_objects(data_string):\n",
    "    if isinstance(data_string, bytes):\n",
    "        data_string = data_string.decode('utf-8')\n",
    "\n",
    "    json_strings = data_string.strip().split('\\n')\n",
    "    json_objects = []\n",
    "\n",
    "    for json_str in json_strings:\n",
    "        try:\n",
    "            json_obj = json.loads(json_str)\n",
    "            json_objects.append(json_obj)\n",
    "        except json.JSONDecodeError as e:\n",
    "            print(f\"Error parsing JSON: {e}\")\n",
    "\n",
    "    return json_objects\n",
    "\n",
    "def monitor_job_status(client, job_id, task_type):\n",
    "    all_completed = False\n",
    "\n",
    "    while not all_completed:\n",
    "        all_completed = True\n",
    "        output_lines = []\n",
    "\n",
    "        updated_job = client.batches.retrieve(job_id)\n",
    "\n",
    "        if updated_job.status.lower() != \"completed\":\n",
    "            all_completed = False\n",
    "            completed = updated_job.request_counts.completed\n",
    "            total = updated_job.request_counts.total\n",
    "            output_lines.append(f\"{task_type.capitalize()} job status: {updated_job.status} - Progress: {completed}/{total}\")\n",
    "        else:\n",
    "            output_lines.append(f\"{task_type.capitalize()} job completed!\")\n",
    "\n",
    "        # Clear the output and display updated status\n",
    "        clear_output(wait=True)\n",
    "        for line in output_lines:\n",
    "            display(line)\n",
    "\n",
    "        if not all_completed:\n",
    "            time.sleep(10)\n",
    "\n",
    "monitor_job_status(client=client, job_id=job.id, task_type='assistant')"
   ]
  },
  {
   "cell_type": "markdown",
   "id": "TkkhIG9HU0D9",
   "metadata": {
    "id": "TkkhIG9HU0D9"
   },
   "source": [
    "#### Get the results"
   ]
  },
  {
   "cell_type": "code",
   "execution_count": 10,
   "id": "caA5djbLrJ4O",
   "metadata": {},
   "outputs": [],
   "source": [
    "batch_job = client.batches.retrieve(job.id)\n",
    "result_file_id = batch_job.output_file_id\n",
    "result = client.files.content(result_file_id).content\n",
    "results = parse_json_objects(result)\n",
    "answers = []\n",
    "\n",
    "for res in results:\n",
    "    task_id = res['custom_id']\n",
    "    result = res['response']['body']['choices'][0]['message']['content']\n",
    "    answers.append(result) \n",
    "\n",
    "df['answer'] = answers"
   ]
  },
  {
   "cell_type": "code",
   "execution_count": 11,
   "id": "d40d4341-5460-4ba2-b08d-02617a40b1ee",
   "metadata": {},
   "outputs": [
    {
     "data": {
      "text/plain": [
       "0.6"
      ]
     },
     "execution_count": 11,
     "metadata": {},
     "output_type": "execute_result"
    }
   ],
   "source": [
    "# Step 1: Create a column with True/False if answer is in Genre\n",
    "df['is_correct'] = df.apply(\n",
    "    lambda row: row['answer'] in row['Genre'].split(', '),\n",
    "    axis=1\n",
    ")\n",
    "\n",
    "# Step 2: Calculate accuracy as the mean of the 'is_correct' column\n",
    "accuracy = df['is_correct'].mean()\n",
    "accuracy"
   ]
  },
  {
   "cell_type": "code",
   "execution_count": 12,
   "id": "a28cbeb1-b0e4-47a2-b13d-d502979a1c9d",
   "metadata": {
    "scrolled": true
   },
   "outputs": [
    {
     "data": {
      "text/plain": [
       "answer\n",
       "Drama.                        33\n",
       "Fantasy                       33\n",
       "Western.                      33\n",
       "Thriller.                     31\n",
       "Thriller                      30\n",
       "Fantasy.                      24\n",
       "Romance.                      17\n",
       "Biography                     17\n",
       "Crime.                        17\n",
       "Romance                       16\n",
       "Drama                         16\n",
       "Comedy.                       13\n",
       "Adventure.                     9\n",
       "Sci-Fi                         8\n",
       "Biography.                     7\n",
       "Film-Noir                      7\n",
       "Mystery.                       6\n",
       "Action.                        6\n",
       "Mystery                        5\n",
       "Action                         5\n",
       "Comedy                         5\n",
       "Western                        4\n",
       "Film-Noir.                     4\n",
       "War                            4\n",
       "Musical                        4\n",
       "History                        3\n",
       "Family.                        3\n",
       "History.                       3\n",
       "Horror                         3\n",
       "Family                         3\n",
       "Musical.                       3\n",
       "Sci-Fi.                        3\n",
       "Superhero                      3\n",
       "Science Fiction.               3\n",
       "Animation.                     2\n",
       "Sport                          2\n",
       "Science Fiction                2\n",
       "Spartacus was a film-noir.     1\n",
       "Heist.                         1\n",
       "Music                          1\n",
       "Time-Travel                    1\n",
       "Spy                            1\n",
       "Epic                           1\n",
       "Gothic                         1\n",
       "Spectre                        1\n",
       "Anime                          1\n",
       "Samurai.                       1\n",
       "War.                           1\n",
       "Adventure                      1\n",
       "Sports.                        1\n",
       "Name: count, dtype: int64"
      ]
     },
     "execution_count": 12,
     "metadata": {},
     "output_type": "execute_result"
    }
   ],
   "source": [
    "df[df.is_correct==False].answer.value_counts()"
   ]
  },
  {
   "cell_type": "markdown",
   "id": "78208680-2859-4963-b615-f393ed6dbd65",
   "metadata": {},
   "source": [
    "## 2. Prompt Engineering"
   ]
  },
  {
   "cell_type": "markdown",
   "id": "cd96570d-7b07-477f-ac61-2650db589d92",
   "metadata": {},
   "source": [
    "Now that we identified what are kind of mistakes the LLM is doing, we'll modify the original prompt to help it perform better"
   ]
  },
  {
   "cell_type": "code",
   "execution_count": 13,
   "id": "153bb7b7-a2d7-4720-b617-cc6d36bdeab6",
   "metadata": {},
   "outputs": [],
   "source": [
    "ASSISTANT_PROMPT = '''\n",
    "    Instruction:\n",
    "    You are an assistant that classifies a movie into exactly one of the listed genres based on a provided movie description.\n",
    "    \n",
    "    Process to Follow (Do Not Reveal to User):\n",
    "     1.\tRead the movie description carefully.\n",
    "     2.\tConsider each of the following genres and compare the details of the description to the typical features of each genre.\n",
    "     3.\tSelect the single best-matching genre. If you feel uncertain, re-check the features and do not guess outside the provided genres.\n",
    "     4.\tOnce certain, provide your final answer as instructed below.\n",
    "    \n",
    "    Available Genres:\n",
    "    Action, Adventure, Animation, Biography, Comedy, Crime, Drama, Family, Fantasy, Film-Noir, History, Horror, Music, Musical, Mystery, Romance, Sci-Fi, Sport, Thriller, War, Western\n",
    "    \n",
    "    Output Requirements:\n",
    "    - Output exactly one word (the chosen genre) without any additional punctuation or explanation.\n",
    "    - Do not invent new genres or deviate from the provided list.\n",
    "    \n",
    "    Final Answer Format:\n",
    "    GenreName\n",
    "    '''\n",
    "\n",
    "task_list = create_tasks(df, task_type='assistant', system_prompt=ASSISTANT_PROMPT, model=\"klusterai/Meta-Llama-3.1-8B-Instruct-Turbo\")\n",
    "filename = save_tasks(task_list, task_type='assistant')"
   ]
  },
  {
   "cell_type": "markdown",
   "id": "ca7e206f-b722-4ccc-8f81-bdc6f76925d1",
   "metadata": {
    "id": "xArKu7-sqSiR"
   },
   "source": [
    "#### Upload Batch File to kluster.ai"
   ]
  },
  {
   "cell_type": "code",
   "execution_count": 14,
   "id": "a1acfe6a-3f8d-4a5a-b98b-9ed602ec2fa5",
   "metadata": {},
   "outputs": [
    {
     "name": "stdout",
     "output_type": "stream",
     "text": [
      "Creating batch job for batch_tasks_assistant.jsonl\n"
     ]
    }
   ],
   "source": [
    "job = create_batch_job(filename)"
   ]
  },
  {
   "cell_type": "markdown",
   "id": "680eedc8-d428-44e3-978d-03962db39fa5",
   "metadata": {
    "id": "e-ujphILqepu"
   },
   "source": [
    "#### Check job progress"
   ]
  },
  {
   "cell_type": "code",
   "execution_count": 15,
   "id": "2dccf32f-32c2-4ff7-a360-53f68a839794",
   "metadata": {},
   "outputs": [
    {
     "data": {
      "text/plain": [
       "'Assistant job completed!'"
      ]
     },
     "metadata": {},
     "output_type": "display_data"
    }
   ],
   "source": [
    "monitor_job_status(client=client, job_id=job.id, task_type='assistant')"
   ]
  },
  {
   "cell_type": "markdown",
   "id": "6a8857bf-42a5-4f73-8818-b174e59962b9",
   "metadata": {
    "id": "TkkhIG9HU0D9"
   },
   "source": [
    "#### Get the results"
   ]
  },
  {
   "cell_type": "code",
   "execution_count": 16,
   "id": "48fe8c76-5a48-468b-a7d9-dc5fda938211",
   "metadata": {},
   "outputs": [],
   "source": [
    "batch_job = client.batches.retrieve(job.id)\n",
    "result_file_id = batch_job.output_file_id\n",
    "result = client.files.content(result_file_id).content\n",
    "results = parse_json_objects(result)\n",
    "answers = []\n",
    "\n",
    "for res in results:\n",
    "    task_id = res['custom_id']\n",
    "    result = res['response']['body']['choices'][0]['message']['content']\n",
    "    answers.append(result) \n",
    "\n",
    "df['improved_answer'] = answers"
   ]
  },
  {
   "cell_type": "code",
   "execution_count": 17,
   "id": "4f7673e0-9fc7-4c48-bc70-a9ec92e9c29f",
   "metadata": {},
   "outputs": [
    {
     "data": {
      "text/plain": [
       "0.717"
      ]
     },
     "execution_count": 17,
     "metadata": {},
     "output_type": "execute_result"
    }
   ],
   "source": [
    "# Step 1: Create a column with True/False if answer is in Genre\n",
    "df['improved_is_correct'] = df.apply(\n",
    "    lambda row: row['improved_answer'] in row['Genre'].split(', '),\n",
    "    axis=1\n",
    ")\n",
    "\n",
    "# Step 2: Calculate accuracy as the mean of the 'is_correct' column\n",
    "accuracy = df['improved_is_correct'].mean()\n",
    "accuracy"
   ]
  },
  {
   "cell_type": "code",
   "execution_count": null,
   "id": "cc8f266d-dc7a-46d7-b65a-15e21d51b261",
   "metadata": {},
   "outputs": [],
   "source": []
  }
 ],
 "metadata": {
  "kernelspec": {
   "display_name": "Python 3 (ipykernel)",
   "language": "python",
   "name": "python3"
  },
  "language_info": {
   "codemirror_mode": {
    "name": "ipython",
    "version": 3
   },
   "file_extension": ".py",
   "mimetype": "text/x-python",
   "name": "python",
   "nbconvert_exporter": "python",
   "pygments_lexer": "ipython3",
   "version": "3.12.7"
  }
 },
 "nbformat": 4,
 "nbformat_minor": 5
}
