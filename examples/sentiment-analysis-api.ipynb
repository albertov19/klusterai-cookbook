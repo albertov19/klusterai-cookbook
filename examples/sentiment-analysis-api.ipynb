{
 "cells": [
  {
   "cell_type": "markdown",
   "id": "be189fde-4e5b-4f80-bae1-ded86a5075a7",
   "metadata": {
    "id": "be189fde-4e5b-4f80-bae1-ded86a5075a7"
   },
   "source": [
    "# Sentiment analysis with kluster.ai API"
   ]
  },
  {
   "cell_type": "markdown",
   "id": "b17a77d9",
   "metadata": {},
   "source": [
    "[![Open in Colab](https://colab.research.google.com/assets/colab-badge.svg)](https://colab.research.google.com/github/kluster-ai/klusterai-cookbook/blob/main/examples/sentiment-analysis-api.ipynb)"
   ]
  },
  {
   "cell_type": "markdown",
   "id": "6d1d06ea-79c1-4f28-b312-0e5aabe18ff3",
   "metadata": {
    "id": "6d1d06ea-79c1-4f28-b312-0e5aabe18ff3"
   },
   "source": [
    "Welcome to the sentiment analysis notebook using the kluster.ai Batch API!\n",
    "\n",
    "In this notebook, we’ll walk you through how to apply the <a href=\"https://kluster.ai/\" target=\"_blank\">kluster.ai</a> Batch API to analyze the sentiment of text data. For illustration, we’ll use a sample from the Amazon musical instrument reviews dataset to determine the sentiment of each review. While we’ve included a sample dataset, you can easily customize this example to work with your own data and specific use case. This technique allows for efficient processing of datasets, whether small or large, with results neatly categorized using a cutting-edge language model.\n",
    "\n",
    "To begin, just enter your API key and run the preloaded cells to start the analysis. If you don’t have an API key, you can sign up for free <a href=\"https://platform.kluster.ai/signup\" target=\"_blank\">on our platform</a>."
   ]
  },
  {
   "cell_type": "markdown",
   "id": "xU1WBQJ7Uh09",
   "metadata": {
    "id": "xU1WBQJ7Uh09"
   },
   "source": [
    "## Setup"
   ]
  },
  {
   "cell_type": "markdown",
   "id": "b8d580f8-67d5-45d6-915f-0f6b60d3b543",
   "metadata": {},
   "source": [
    "Provide your unique kluster.ai API key (ensure there are no spaces). If you don’t have one yet, don’t forget to <a href=\"https://platform.kluster.ai/signup\" target=\"_blank\">sign up</a>."
   ]
  },
  {
   "cell_type": "code",
   "execution_count": 1,
   "id": "4911e5eb-7463-4a6b-8a99-9313cecd9d4d",
   "metadata": {},
   "outputs": [
    {
     "name": "stdin",
     "output_type": "stream",
     "text": [
      "Enter your kluster.ai API key:  ········\n"
     ]
    }
   ],
   "source": [
    "from getpass import getpass\n",
    "\n",
    "api_key = getpass(\"Enter your kluster.ai API key: \")"
   ]
  },
  {
   "cell_type": "code",
   "execution_count": 2,
   "id": "bcc3d475-8f49-4fc4-9a5e-c6eb6866d2b5",
   "metadata": {},
   "outputs": [
    {
     "name": "stdout",
     "output_type": "stream",
     "text": [
      "Note: you may need to restart the kernel to use updated packages.\n"
     ]
    }
   ],
   "source": [
    "%pip install -q openai"
   ]
  },
  {
   "cell_type": "code",
   "execution_count": 3,
   "id": "b89a4feb-37a9-430d-a742-cd58495b4eaf",
   "metadata": {},
   "outputs": [],
   "source": [
    "from openai import OpenAI\n",
    "\n",
    "import pandas as pd\n",
    "import time\n",
    "import json\n",
    "from IPython.display import clear_output, display"
   ]
  },
  {
   "cell_type": "code",
   "execution_count": 4,
   "id": "zG9y_WO5rYaj",
   "metadata": {},
   "outputs": [],
   "source": [
    "# Set up the client\n",
    "client = OpenAI(\n",
    "    base_url=\"https://api.kluster.ai/v1\",\n",
    "    api_key=api_key,\n",
    ")"
   ]
  },
  {
   "cell_type": "markdown",
   "id": "udPtLfTaisSw",
   "metadata": {
    "id": "udPtLfTaisSw"
   },
   "source": [
    "## Get the data"
   ]
  },
  {
   "cell_type": "markdown",
   "id": "QjCVfg65jKz6",
   "metadata": {
    "id": "QjCVfg65jKz6"
   },
   "source": [
    "We’ve preloaded a sample dataset for you, sourced from Amazon’s reviews of musical instruments. This dataset contains customer feedback on various music-related products, ready for you to analyze. No further setup is required—just jump into the next steps to start working with the data."
   ]
  },
  {
   "cell_type": "code",
   "execution_count": 5,
   "id": "07018f92-9a01-47d5-916a-12cd03dfa3a0",
   "metadata": {},
   "outputs": [],
   "source": [
    "df = pd.DataFrame({\n",
    "    \"text\": [\n",
    "        \"It hums, crackles, and I think I'm having problems with my equipment. As soon as I use any of my other cords then the problem is gone. Hosa makes some other products that have good value. But based on my experience I don't recommend this one.\",\n",
    "        \"I bought this to use with my keyboard. I wasn't really aware that there were other options for keyboard pedals. It doesn't work as smoothly as the pedals do on an acoustic piano, which is what I'd always used. Doesn't have the same feel either. Nowhere close.In my opinion, a sustain pedal like the M-Audio SP-2 Sustain Pedal with Piano Style Action or other similar pedal is a much better choice. The price difference is only a few dollars and the feel and action are so much better.\",\n",
    "        \"This cable disproves the notion that you get what you pay for. It's quality outweighs its price. Let's face it, a cable is a cable is a cable. But the quality of these cables can vary greatly. I replaced a lighter cable with this one and I was surprised at the difference in the quality of the sound from my amp. I have an Ibanez ART series guitar into an Ibanez 15 watt amp set up in my home. With nothing changed but the cable, there was a significant difference in quality and volume. So much so that I checked with my guitar teacher who said he was not surprised. The quality appears good. The ends are heavy duty and the little bit of hum I had due to the proximity of everything was attenuated to the point where it was inconsequential. I've seen more expensive cables and this one is (so far) great.Hosa GTR210 Guitar Cable 10 Ft\",\n",
    "        \"Bought this to hook up a Beta 58 to a Panasonic G2 DSLR and a Kodak Zi8 for interviews. Works the way it's supposed to. 90 degree TRS is a nice touch. Good price.\",\n",
    "        \"96\tJust received this cord and it seems to work as expected. What can you say about an adapter cord? It is well made, good construction and sound from my DSLR with my mic is superb.\"\n",
    "    ]\n",
    "})"
   ]
  },
  {
   "cell_type": "markdown",
   "id": "OyGuHllZllct",
   "metadata": {
    "id": "OyGuHllZllct"
   },
   "source": [
    "## Adaptive Inference"
   ]
  },
  {
   "cell_type": "markdown",
   "id": "64c345aa-b6a7-4770-8368-b290e9e799dc",
   "metadata": {
    "id": "6-MZlfXAoiNv"
   },
   "source": [
    "To run the inference job, we’ll follow three simple steps:\n",
    "1. **Create the inference file -** we’ll create a file containing the requests to be processed by the model.\n",
    "2. **Upload the inference file -** once the file is ready, we’ll upload it to the kluster.ai platform using the API, where it will be queued for processing.\n",
    "3. **Start the job -** after the upload, we’ll trigger the job to process the data.\n",
    "\n",
    "Everything has already been set up for you—simply run the cells below and watch it work!"
   ]
  },
  {
   "cell_type": "markdown",
   "id": "Ew-R24Ltp5EW",
   "metadata": {
    "id": "Ew-R24Ltp5EW"
   },
   "source": [
    "### Create the Adaptive Inference file"
   ]
  },
  {
   "cell_type": "markdown",
   "id": "qS4JXT52wGJ-",
   "metadata": {
    "id": "qS4JXT52wGJ-"
   },
   "source": [
    "In this example, we are using the `klusterai/Meta-Llama-3.3-70B-Instruct-Turbo` model. If you’d like to switch to another model, feel free to change the model name in the next cell. For a complete list of available models, please refer to our <a href=\"https://docs.kluster.ai/getting-started/#list-supported-models\" target=\"_blank\">documentation</a>."
   ]
  },
  {
   "cell_type": "code",
   "execution_count": 22,
   "id": "fVtwyqZ_nEq7",
   "metadata": {},
   "outputs": [],
   "source": [
    "def create_inference_file(df):\n",
    "    inference_list = []\n",
    "    for index, row in df.iterrows():\n",
    "        content = row['text']\n",
    "        \n",
    "        request = {\n",
    "            \"custom_id\": f\"sentiment-analysis-{index}\",\n",
    "            \"method\": \"POST\",\n",
    "            \"url\": \"/v1/chat/completions\",\n",
    "            \"body\": {\n",
    "                \"model\": \"klusterai/Meta-Llama-3.3-70B-Instruct-Turbo\",\n",
    "                \"temperature\": 0.5,\n",
    "                \"response_format\": {\"type\": \"json_object\"},\n",
    "                \"messages\": [\n",
    "                    {\"role\": \"system\", \"content\": 'Analyze the sentiment (positive, neutral or negative) of these musical instrument reviews by aspect, including Price, Quality, Sound, Ease of Use, Integration/Compatibility, Aesthetics, and Customer Service.'},\n",
    "                    {\"role\": \"user\", \"content\": content}\n",
    "                ],\n",
    "            }\n",
    "        }\n",
    "        inference_list.append(request)\n",
    "    return inference_list\n",
    "\n",
    "def save_inference_file(inference_list):\n",
    "    filename = f\"sentiment_analysis_inference_request.jsonl\"\n",
    "    with open(filename, 'w') as file:\n",
    "        for request in inference_list:\n",
    "            file.write(json.dumps(request) + '\\n')\n",
    "    return filename"
   ]
  },
  {
   "cell_type": "code",
   "execution_count": 23,
   "id": "qNhmrmHdnp7g",
   "metadata": {},
   "outputs": [],
   "source": [
    "inference_list = create_inference_file(df)\n",
    "filename = save_inference_file(inference_list)"
   ]
  },
  {
   "cell_type": "markdown",
   "id": "ada26fe3-acb9-48dc-b368-b57fc380cdb8",
   "metadata": {},
   "source": [
    "Let’s preview what that request file looks like:"
   ]
  },
  {
   "cell_type": "code",
   "execution_count": 24,
   "id": "d65f5099-5add-4749-9a85-3c04a9b342bb",
   "metadata": {},
   "outputs": [
    {
     "name": "stdout",
     "output_type": "stream",
     "text": [
      "{\"custom_id\": \"sentiment-analysis-0\", \"method\": \"POST\", \"url\": \"/v1/chat/completions\", \"body\": {\"model\": \"klusterai/Meta-Llama-3.3-70B-Instruct-Turbo\", \"temperature\": 0.5, \"response_format\": {\"type\": \"json_object\"}, \"messages\": [{\"role\": \"system\", \"content\": \"Analyze the sentiment (positive, neutral or negative) of these musical instrument reviews by aspect, including Price, Quality, Sound, Ease of Use, Integration/Compatibility, Aesthetics, and Customer Service.\"}, {\"role\": \"user\", \"content\": \"It hums, crackles, and I think I'm having problems with my equipment. As soon as I use any of my other cords then the problem is gone. Hosa makes some other products that have good value. But based on my experience I don't recommend this one.\"}]}}\n"
     ]
    }
   ],
   "source": [
    "!head -n 1 sentiment_analysis_inference_request.jsonl"
   ]
  },
  {
   "cell_type": "markdown",
   "id": "xArKu7-sqSiR",
   "metadata": {
    "id": "xArKu7-sqSiR"
   },
   "source": [
    "### Upload inference file to kluster.ai"
   ]
  },
  {
   "cell_type": "markdown",
   "id": "e48b2489-99bc-431b-8cb3-de816550d524",
   "metadata": {},
   "source": [
    "With our input file ready, the next step is to upload it to the kluster.ai platform."
   ]
  },
  {
   "cell_type": "code",
   "execution_count": 25,
   "id": "l5eu5UyAnEtk",
   "metadata": {},
   "outputs": [],
   "source": [
    "inference_input_file = client.files.create(\n",
    "    file=open(filename, \"rb\"),\n",
    "    purpose=\"batch\"\n",
    ")"
   ]
  },
  {
   "cell_type": "markdown",
   "id": "6438be35-1e73-4c34-9249-2dd16d102253",
   "metadata": {
    "id": "xArKu7-sqSiR"
   },
   "source": [
    "### Start the job"
   ]
  },
  {
   "cell_type": "markdown",
   "id": "251a0b89-71a9-40d7-bf14-51be935afe10",
   "metadata": {},
   "source": [
    "Once the file has been successfully uploaded, we’re ready to start the inference job.\n",
    "\n",
    "**REMEMBER:** It can take up to 24 hours to complete a request, though they typically finish much sooner."
   ]
  },
  {
   "cell_type": "code",
   "execution_count": 26,
   "id": "71a24704-7190-4e24-898f-c4eff062439a",
   "metadata": {},
   "outputs": [],
   "source": [
    "inference_job = client.batches.create(\n",
    "    input_file_id=inference_input_file.id,\n",
    "    endpoint=\"/v1/chat/completions\",\n",
    "    completion_window=\"24h\"\n",
    ")"
   ]
  },
  {
   "cell_type": "markdown",
   "id": "e-ujphILqepu",
   "metadata": {
    "id": "e-ujphILqepu"
   },
   "source": [
    "### Check job progress"
   ]
  },
  {
   "cell_type": "markdown",
   "id": "iFrDrriQqizC",
   "metadata": {
    "id": "iFrDrriQqizC"
   },
   "source": [
    "All requests are currently being processed! In the next section, we’ll track the status of the job to monitor its progress. Let’s check in and follow its completion."
   ]
  },
  {
   "cell_type": "code",
   "execution_count": 27,
   "id": "SuH0CfoqjP3d",
   "metadata": {},
   "outputs": [
    {
     "data": {
      "text/plain": [
       "'Job completed!'"
      ]
     },
     "metadata": {},
     "output_type": "display_data"
    }
   ],
   "source": [
    "def parse_json_objects(data_string):\n",
    "    if isinstance(data_string, bytes):\n",
    "        data_string = data_string.decode('utf-8')\n",
    "\n",
    "    json_strings = data_string.strip().split('\\n')\n",
    "    json_objects = []\n",
    "\n",
    "    for json_str in json_strings:\n",
    "        try:\n",
    "            json_obj = json.loads(json_str)\n",
    "            json_objects.append(json_obj)\n",
    "        except json.JSONDecodeError as e:\n",
    "            print(f\"Error parsing JSON: {e}\")\n",
    "\n",
    "    return json_objects\n",
    "\n",
    "all_completed = False\n",
    "while not all_completed:\n",
    "    all_completed = True\n",
    "    output_lines = []\n",
    "\n",
    "    updated_job = client.batches.retrieve(inference_job.id)\n",
    "\n",
    "    if updated_job.status != \"completed\":\n",
    "        all_completed = False\n",
    "        completed = updated_job.request_counts.completed\n",
    "        total = updated_job.request_counts.total\n",
    "        output_lines.append(f\"Job status: {updated_job.status} - Progress: {completed}/{total}\")\n",
    "    else:\n",
    "        output_lines.append(f\"Job completed!\")\n",
    "\n",
    "    # Clear the output and display updated status\n",
    "    clear_output(wait=True)\n",
    "    for line in output_lines:\n",
    "        display(line)\n",
    "\n",
    "    if not all_completed:\n",
    "        time.sleep(10)"
   ]
  },
  {
   "cell_type": "markdown",
   "id": "TkkhIG9HU0D9",
   "metadata": {
    "id": "TkkhIG9HU0D9"
   },
   "source": [
    "## Get the results"
   ]
  },
  {
   "cell_type": "markdown",
   "id": "12c1f6ac-8d60-4158-9036-de79fa274983",
   "metadata": {},
   "source": [
    "Now that the job is complete, we’ll fetch the results and examine the responses generated for each request."
   ]
  },
  {
   "cell_type": "code",
   "execution_count": 28,
   "id": "806a5eb1-f6d3-491d-b051-9d44bf046a7e",
   "metadata": {},
   "outputs": [
    {
     "name": "stdout",
     "output_type": "stream",
     "text": [
      "\n",
      " -------------------------- \n",
      "\n",
      "Task ID: sentiment-analysis-0. \n",
      "\n",
      "REVIEW: It hums, crackles, and I think I'm having problems with my equipment. As soon as I use any of my other cords then the problem is gone. Hosa makes some other products that have good value. But based on my experience I don't recommend this one.\n",
      "\n",
      "SENTIMENT ANALYSIS: Here is the sentiment analysis of the review by aspect:\n",
      "\n",
      "* **Quality**: Negative (the product hums, crackles, and causes problems with equipment)\n",
      "* **Price**: Neutral (the reviewer mentions that Hosa makes other products with good value, but doesn't comment on the price of this specific product)\n",
      "* **Sound**: Negative (the product causes humming and crackling, which affects the sound quality)\n",
      "* **Ease of Use**: Negative (the product causes problems with equipment, which suggests that it may be difficult to use)\n",
      "* **Integration/Compatibility**: Negative (the product doesn't seem to be compatible with the reviewer's equipment)\n",
      "* **Aesthetics**: Neutral (no comment on the product's appearance)\n",
      "* **Customer Service**: Neutral (no comment on the customer service)\n",
      "\n",
      "Overall, the review expresses a negative sentiment towards the product, citing quality and compatibility issues.\n",
      "\n",
      " -------------------------- \n",
      "\n",
      "Task ID: sentiment-analysis-1. \n",
      "\n",
      "REVIEW: I bought this to use with my keyboard. I wasn't really aware that there were other options for keyboard pedals. It doesn't work as smoothly as the pedals do on an acoustic piano, which is what I'd always used. Doesn't have the same feel either. Nowhere close.In my opinion, a sustain pedal like the M-Audio SP-2 Sustain Pedal with Piano Style Action or other similar pedal is a much better choice. The price difference is only a few dollars and the feel and action are so much better.\n",
      "\n",
      "SENTIMENT ANALYSIS: Here is the sentiment analysis of the review by aspect:\n",
      "\n",
      "* **Price**: Neutral (the reviewer mentions that the price difference between this pedal and a better alternative is only a few dollars, implying that the price is not a significant factor)\n",
      "* **Quality**: Negative (the reviewer states that the pedal doesn't work as smoothly as acoustic piano pedals and doesn't have the same feel)\n",
      "* **Sound**: Neutral (no mention of the sound quality)\n",
      "* **Ease of Use**: Negative (the reviewer implies that the pedal is not easy to use, as it doesn't have the same feel as an acoustic piano pedal)\n",
      "* **Integration/Compatibility**: Neutral (no mention of integration or compatibility issues)\n",
      "* **Aesthetics**: Neutral (no mention of the pedal's appearance)\n",
      "* **Customer Service**: Neutral (no mention of customer service)\n",
      "\n",
      "Overall, the reviewer is disappointed with the pedal's performance and feel, and recommends a different product as a better alternative.\n",
      "\n",
      " -------------------------- \n",
      "\n",
      "Task ID: sentiment-analysis-2. \n",
      "\n",
      "REVIEW: This cable disproves the notion that you get what you pay for. It's quality outweighs its price. Let's face it, a cable is a cable is a cable. But the quality of these cables can vary greatly. I replaced a lighter cable with this one and I was surprised at the difference in the quality of the sound from my amp. I have an Ibanez ART series guitar into an Ibanez 15 watt amp set up in my home. With nothing changed but the cable, there was a significant difference in quality and volume. So much so that I checked with my guitar teacher who said he was not surprised. The quality appears good. The ends are heavy duty and the little bit of hum I had due to the proximity of everything was attenuated to the point where it was inconsequential. I've seen more expensive cables and this one is (so far) great.Hosa GTR210 Guitar Cable 10 Ft\n",
      "\n",
      "SENTIMENT ANALYSIS: Here's the sentiment analysis of the review by aspect:\n",
      "\n",
      "1. **Price**: Positive - The reviewer mentions that the cable \"disproves the notion that you get what you pay for\", implying that it's a great value for the price.\n",
      "2. **Quality**: Positive - The reviewer states that the quality of the cable \"outweighs its price\" and that it's \"good\". They also mention that the ends are \"heavy duty\".\n",
      "3. **Sound**: Positive - The reviewer noticed a \"significant difference in quality and volume\" after switching to this cable, and the hum was \"attenuated to the point where it was inconsequential\".\n",
      "4. **Ease of Use**: Neutral - The reviewer doesn't explicitly mention the ease of use, but since it's a cable, it's likely that it's easy to use and plug in.\n",
      "5. **Integration/Compatibility**: Positive - The reviewer mentions that they used it with an Ibanez guitar and amp, and it worked well, with no issues mentioned.\n",
      "6. **Aesthetics**: Neutral - The reviewer doesn't mention the appearance of the cable, focusing more on its performance and quality.\n",
      "7. **Customer Service**: Neutral - The reviewer doesn't mention interacting with customer service, so it's not possible to evaluate this aspect.\n",
      "\n",
      " -------------------------- \n",
      "\n",
      "Task ID: sentiment-analysis-3. \n",
      "\n",
      "REVIEW: Bought this to hook up a Beta 58 to a Panasonic G2 DSLR and a Kodak Zi8 for interviews. Works the way it's supposed to. 90 degree TRS is a nice touch. Good price.\n",
      "\n",
      "SENTIMENT ANALYSIS: Here's the sentiment analysis by aspect:\n",
      "\n",
      "* Price: Positive (mentioned as \"Good price\")\n",
      "* Quality: Positive (mentioned as \"Works the way it's supposed to\", implying that it's functional and reliable)\n",
      "* Sound: Neutral (not explicitly mentioned, but implied to be satisfactory since it \"works the way it's supposed to\")\n",
      "* Ease of Use: Positive (implied to be easy to use since it \"works the way it's supposed to\" and no issues were mentioned)\n",
      "* Integration/Compatibility: Positive (mentioned that it works with a Beta 58, Panasonic G2 DSLR, and a Kodak Zi8, indicating compatibility with various devices)\n",
      "* Aesthetics: Neutral (not mentioned)\n",
      "* Customer Service: Neutral (not mentioned)\n",
      "\n",
      " -------------------------- \n",
      "\n",
      "Task ID: sentiment-analysis-4. \n",
      "\n",
      "REVIEW: 96\tJust received this cord and it seems to work as expected. What can you say about an adapter cord? It is well made, good construction and sound from my DSLR with my mic is superb.\n",
      "\n",
      "SENTIMENT ANALYSIS: Here's the sentiment analysis of the review by aspect:\n",
      "\n",
      "* Price: Neutral (no mention)\n",
      "* Quality: Positive (mentioned as \"well made\" and \"good construction\")\n",
      "* Sound: Positive (mentioned as \"superb\")\n",
      "* Ease of Use: Positive (implied, as it \"seems to work as expected\")\n",
      "* Integration/Compatibility: Positive (works with DSLR and mic)\n",
      "* Aesthetics: Neutral (no mention)\n",
      "* Customer Service: Neutral (no mention)\n",
      "\n",
      "Overall, the review is positive, with the user expressing satisfaction with the product's quality, sound, and compatibility.\n"
     ]
    }
   ],
   "source": [
    "job = client.batches.retrieve(inference_job.id)\n",
    "result_file_id = job.output_file_id\n",
    "result = client.files.content(result_file_id).content\n",
    "results = parse_json_objects(result)\n",
    "\n",
    "for res in results:\n",
    "    task_id = res['custom_id']\n",
    "    index = task_id.split('-')[-1]\n",
    "    result = res['response']['body']['choices'][0]['message']['content']\n",
    "    text = df.iloc[int(index)]['text']\n",
    "    print(f'\\n -------------------------- \\n')\n",
    "    print(f\"Task ID: {task_id}. \\n\\nREVIEW: {text}\\n\\nSENTIMENT ANALYSIS: {result}\")"
   ]
  },
  {
   "cell_type": "markdown",
   "id": "70e0e816-6558-4ff2-bab2-f85cff00bfc8",
   "metadata": {
    "executionInfo": {
     "elapsed": 5,
     "status": "ok",
     "timestamp": 1732042430093,
     "user": {
      "displayName": "Joaquin Rodríguez",
      "userId": "09993043682054067997"
     },
     "user_tz": 180
    },
    "id": "tu2R8dGYimKc"
   },
   "source": [
    "## Conclusion"
   ]
  },
  {
   "cell_type": "markdown",
   "id": "7d195dd1-1293-4407-b6ad-cab7e77b14c0",
   "metadata": {},
   "source": [
    "Congratulations on successfully completing the sentiment analysis task with the kluster.ai Batch API! This example demonstrates how simple it is to work with large datasets and derive meaningful insights from them. The Batch API enables you to scale your workflows seamlessly, making it a vital tool for handling large-scale data processing."
   ]
  },
  {
   "cell_type": "code",
   "execution_count": null,
   "id": "c092343e-7672-46f4-aa27-00b3466ad210",
   "metadata": {},
   "outputs": [],
   "source": []
  }
 ],
 "metadata": {
  "kernelspec": {
   "display_name": "Python 3 (ipykernel)",
   "language": "python",
   "name": "python3"
  },
  "language_info": {
   "codemirror_mode": {
    "name": "ipython",
    "version": 3
   },
   "file_extension": ".py",
   "mimetype": "text/x-python",
   "name": "python",
   "nbconvert_exporter": "python",
   "pygments_lexer": "ipython3",
   "version": "3.12.7"
  }
 },
 "nbformat": 4,
 "nbformat_minor": 5
}
